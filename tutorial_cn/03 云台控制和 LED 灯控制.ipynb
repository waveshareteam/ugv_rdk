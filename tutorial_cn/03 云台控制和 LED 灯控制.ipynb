{
 "cells": [
  {
   "attachments": {},
   "cell_type": "markdown",
   "id": "49f155c8-ef2c-41a9-bdf8-d854d0e272d8",
   "metadata": {},
   "source": [
    "# 云台控制和 LED 灯控制\n",
    "## 云台控制\n",
    "### 基础介绍\n",
    "\n",
    "带有云台的产品上含有两个舵机，分别为水平舵机和倾斜舵机。水平舵机控制云台水平平面的转动，转动范围 ±180°（总范围360°）；倾斜舵机控制云台竖直平面的转动，转动范围 -45°~90°（总范围 135°）。\n",
    "\n",
    "对于没有配有云台的产品，也可以自行在产品上扩展云台。"
   ]
  },
  {
   "cell_type": "code",
   "execution_count": 1,
   "id": "f0ff970f-882b-4e93-a82e-76bf10bd59f0",
   "metadata": {},
   "outputs": [],
   "source": [
    "# 导入用于控制底盘的库\n",
    "from base_ctrl import BaseController\n",
    "\n",
    "base = BaseController('/dev/ttyTHS0', 115200)"
   ]
  },
  {
   "cell_type": "markdown",
   "id": "95191cb9-4826-44c3-93b8-b21dc5515779",
   "metadata": {},
   "source": [
    "在上面的代码块我们导入并实例化用于底盘控制的库，接下来通过改变云台水平舵机和倾斜舵机的角度来控制云台运动。\n",
    "\n",
    "改变以下代码中的值，以下代码中：\n",
    "- input_x 为云台水平舵机的转动角度，水平舵机平面 PAN 轴转动范围 ±180°（总范围360°）；\n",
    "- input_y 为云台倾斜舵机的转动角度，倾斜舵机竖直平面 TILT 轴转动范围 -45°~90°（总范围135°）；\n",
    "- input_speed 为云台转动的速度，当速度值为 0 时，转动速度最快；\n",
    "- input_acc 为云台转动开始和结束时的加速度，数值越小启停越平滑。当加速度值为 0 时，则按照最大的加速度转动。\n",
    "\n",
    "运行以下代码，可以看见云台会向右且向上分别运动 45° 后停止。"
   ]
  },
  {
   "cell_type": "code",
   "execution_count": 2,
   "id": "7830105c-1aca-4d0e-b274-93049adcc7d8",
   "metadata": {},
   "outputs": [],
   "source": [
    "input_x = 45\n",
    "input_y = 45\n",
    "input_speed = 0\n",
    "input_acc = 0\n",
    "\n",
    "base.gimbal_ctrl(input_x, input_y, input_speed, input_acc)"
   ]
  },
  {
   "cell_type": "markdown",
   "id": "950ca416-2e03-4078-a744-447a6667a2f2",
   "metadata": {},
   "source": [
    "除了可以通过改变云台中两个舵机的转动角度来控制云台运动，还可以直接控制云台连续运动。\n",
    "\n",
    "改变以下代码中的值，以下代码中：\n",
    "\n",
    "- input_x 为云台水平舵机的转动模式。当值为 -1 时，则表示为云台连续向左转动（顺时针转动）；当值为 1 时，则表示为云台连续向右转动（逆时针转动）；当值为0时，则表示停止转动。\n",
    "- input_y 为云台倾斜舵机的转动模式。当值为 -1 时，则表示为云台倾斜舵机连续向下转动（低头）；当值为 1 时，则表示为云台倾斜舵机连续向上转动（抬头）；当值为0时，则表示停止转动。\n",
    "- input_speed 为云台转动的速度。\n",
    "\n",
    "其中，只有input_x 和 input_y 的值都为 2 时，云台会自动回归中位所处的位置。\n",
    "\n",
    "运行以下代码，云台会向左运动，直到运动到 180° 时停止。"
   ]
  },
  {
   "cell_type": "code",
   "execution_count": 3,
   "id": "0f2aa837-0189-48ce-a34b-ae672d20bd69",
   "metadata": {},
   "outputs": [],
   "source": [
    "input_x = -1\n",
    "input_y = 0\n",
    "input_speed = 0\n",
    "\n",
    "base.gimbal_base_ctrl(input_x, input_y, input_speed)"
   ]
  },
  {
   "cell_type": "markdown",
   "id": "f158091c-5d47-4b0f-acae-9c6cdbe37da3",
   "metadata": {},
   "source": [
    "运行以下代码，云台会向上运动，运动到 90° 时停止。"
   ]
  },
  {
   "cell_type": "code",
   "execution_count": 4,
   "id": "d23c20a5-25eb-45f9-bc39-e8181e535666",
   "metadata": {},
   "outputs": [],
   "source": [
    "input_x = 0\n",
    "input_y = 1\n",
    "input_speed = 0\n",
    "\n",
    "base.gimbal_base_ctrl(input_x, input_y, input_speed)"
   ]
  },
  {
   "cell_type": "markdown",
   "id": "c33fefda-74cf-431c-a5cd-186b5146c260",
   "metadata": {},
   "source": [
    "最后，运行以下代码让云台回归至中位。"
   ]
  },
  {
   "cell_type": "code",
   "execution_count": 5,
   "id": "266b7adc-7fc5-4254-876f-01e4b3e98e14",
   "metadata": {},
   "outputs": [],
   "source": [
    "input_x = 2\n",
    "input_y = 2\n",
    "input_speed = 0\n",
    "\n",
    "base.gimbal_base_ctrl(input_x, input_y, input_speed)"
   ]
  },
  {
   "cell_type": "markdown",
   "id": "ca4f7886-ab01-47e6-b040-f7d6df45ffe4",
   "metadata": {},
   "source": [
    "## LED灯光控制\n",
    "### 基础介绍\n",
    "WAVE ROVER和UGV系列产品，驱动板上集成了两路12V开关控制接口（实际最高电压会随着电池电压而改变），分别为由ESP32的IO4和IO5引脚通过MOS管来控制，每路对应有两个接口，一共4个12V开关控制接口，按照默认的组装方式，IO4控制底盘大灯（WAVE ROVER没有底盘大灯），IO5控制头灯，你可以通过向下位机发送相应的指令来控制这两路接口的开关以及控制电压高低（但由于MOS管控制本身存在一定的延时所以ESP32的IO输出的PWM与实际接口输出的电压不成线性关系）。\n",
    "\n",
    "对于没有配有LED灯的产品，你可以自行在这两路12V开关控制接口上扩展耐压12.6V的LED灯（一般情况下耐压12V的也可以，因为为了安全和保护电池，产品的UPS不会将电池电量充到12V以上），你也可以在剩余的开关控制接口上扩展其它外设——例如耐压12V的水弹枪波箱，直接连接在IO5控制的接口上，即可实现自动瞄准和射击的功能。\n",
    "\n",
    "如果需要运行代码块内的程序，你可以选中需要运行的代码块，然后按Ctrl+Enter来运行程序，如果你在手机或平板电脑上使用JupyterLab，你可以按上方的三角形播放按键来运行代码块。"
   ]
  },
  {
   "cell_type": "markdown",
   "id": "d53371f4-1f31-44b8-88fe-293af7d690df",
   "metadata": {},
   "source": [
    "在上面的代码块中我们导入并实例化了用于控制底盘的库，接下来控制IO4接口的开关，变量IO4_PWM为ESP32的IO4引脚输出的PWM，变量范围为0-255，当此变量值为0时，IO4控制的接口开关关闭；当此变量为255时，IO4控制的接口开关输出的电压接近UPS的BAT电压（当前UPS内三节锂电池串联的电压）。\n",
    "\n",
    "运行以下代码块开启IO4控制的接口开关（亮起底盘大灯）。\n",
    "注意: WAVE ROVE 没有底盘大灯，所以运行以下代码块是没有变化的，需要运行再下一个开启头灯的代码块才会开启头灯，头灯位于摄像头云台上，如果产品没有配有摄像头云台则没有头灯。"
   ]
  },
  {
   "cell_type": "code",
   "execution_count": 6,
   "id": "f3f2e713-806f-4697-9fe0-b5b999d15dad",
   "metadata": {},
   "outputs": [],
   "source": [
    "IO4_PWM = 255\n",
    "IO5_PWM = 0\n",
    "\n",
    "base.lights_ctrl(IO4_PWM, IO5_PWM)"
   ]
  },
  {
   "cell_type": "markdown",
   "id": "53e9e53d-eef3-46dc-9ad9-dafa8b5c75b0",
   "metadata": {},
   "source": [
    "运行以下代码块开启IO5控制的接口开关（亮起云台头灯）。\n",
    "注意：如果产品没有配有摄像头云台则没有头灯。"
   ]
  },
  {
   "cell_type": "code",
   "execution_count": 7,
   "id": "383fa52b-a885-49b0-849e-c705b5008c9b",
   "metadata": {},
   "outputs": [],
   "source": [
    "IO4_PWM = 255\n",
    "IO5_PWM = 255\n",
    "\n",
    "base.lights_ctrl(IO4_PWM, IO5_PWM)"
   ]
  },
  {
   "cell_type": "markdown",
   "id": "fedc79fb-8b62-461b-a20d-099cc6a50a69",
   "metadata": {},
   "source": [
    "如果你的产品带有LED灯，到目前为止应该已经全部亮起了，你可以运行以下代码块来降低LED灯的亮度。"
   ]
  },
  {
   "cell_type": "code",
   "execution_count": 8,
   "id": "02816322-8fe9-43ee-a9ff-43d73d95b097",
   "metadata": {},
   "outputs": [],
   "source": [
    "IO4_PWM = 64\n",
    "IO5_PWM = 64\n",
    "\n",
    "base.lights_ctrl(IO4_PWM, IO5_PWM)"
   ]
  },
  {
   "cell_type": "markdown",
   "id": "dc21bfa5-b8e9-4147-b26f-f2ae82f767f9",
   "metadata": {},
   "source": [
    "最后，运行以下代码块来关闭LED灯。"
   ]
  },
  {
   "cell_type": "code",
   "execution_count": 9,
   "id": "50be9795-b358-4dcd-a9cc-12df8ee0f03b",
   "metadata": {},
   "outputs": [],
   "source": [
    "base.lights_ctrl(0, 0)"
   ]
  },
  {
   "cell_type": "markdown",
   "id": "d3eb783b-d980-40ee-b545-c3a3faa37148",
   "metadata": {},
   "source": [
    "这里运行一个整合了云台功能的代码块"
   ]
  },
  {
   "cell_type": "code",
   "execution_count": null,
   "id": "732f44a7-fd72-44a3-91e0-ac2f0ca21da2",
   "metadata": {},
   "outputs": [],
   "source": [
    "import time\n",
    "base.gimbal_ctrl(0, 0, 0, 0)\n",
    "base.lights_ctrl(255, 255)\n",
    "time.sleep(1)\n",
    "base.gimbal_ctrl(45, 0, 0, 0)\n",
    "base.lights_ctrl(0, 0)\n",
    "time.sleep(1)\n",
    "base.gimbal_ctrl(-45, 0, 0, 0)\n",
    "base.lights_ctrl(255, 255)\n",
    "time.sleep(1)\n",
    "base.gimbal_ctrl(0, 90, 0, 0)\n",
    "base.lights_ctrl(0, 0)\n",
    "time.sleep(1)\n",
    "base.gimbal_ctrl(0, 0, 0, 0)"
   ]
  }
 ],
 "metadata": {
  "kernelspec": {
   "display_name": "Python 3 (ipykernel)",
   "language": "python",
   "name": "python3"
  },
  "language_info": {
   "codemirror_mode": {
    "name": "ipython",
    "version": 3
   },
   "file_extension": ".py",
   "mimetype": "text/x-python",
   "name": "python",
   "nbconvert_exporter": "python",
   "pygments_lexer": "ipython3",
   "version": "3.10.12"
  }
 },
 "nbformat": 4,
 "nbformat_minor": 5
}
