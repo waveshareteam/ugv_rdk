{
 "cells": [
  {
   "cell_type": "markdown",
   "id": "16220d38-0324-4e67-a971-80fe09ebb239",
   "metadata": {},
   "source": [
    "# 在 JupyterLab 中构建 UI 界面\n",
    "在JupyterLab中构建UI界面通常使用的是ipywidgets库，它提供了一种简单而强大的方法来创建交互式用户界面。下面是详细的步骤："
   ]
  },
  {
   "cell_type": "markdown",
   "id": "defcdf0f-70f5-4ada-b873-eb35e2c33666",
   "metadata": {},
   "source": [
    "## 导入所需要的库\n",
    "\n",
    "在我们的产品中已经安装了 `ipywidgets` 库。如果你运行代码块时提示找不到这个库，可以通过 `pip install ipywidgets` 来安装实现 UI 界面中所需的库。\r\n",
    "\r\n",
    "选中以下代码块，按 `Ctrl + Enter` 运行该代码。"
   ]
  },
  {
   "cell_type": "code",
   "execution_count": null,
   "id": "8521d4bf-4dc7-4fd8-ae36-79897d6f175e",
   "metadata": {},
   "outputs": [],
   "source": [
    "import ipywidgets as widgets\n",
    "from IPython.display import display"
   ]
  },
  {
   "cell_type": "markdown",
   "id": "7cecbea2-fe5a-49d4-b212-89abf1a132a6",
   "metadata": {},
   "source": [
    "## 创建 UI 组件\n",
    "我们可以使用ipywidgets库中的各种组件来构建我们的UI界面，比如文本框、按钮、输出框等。例如："
   ]
  },
  {
   "cell_type": "code",
   "execution_count": null,
   "id": "fbdd0e24-4f3d-4429-b109-b5b9b85218be",
   "metadata": {},
   "outputs": [],
   "source": [
    "# 创建一个文本框\n",
    "text = widgets.Text(description='请输入名字：')\n",
    "\n",
    "# 创建一个按钮\n",
    "button = widgets.Button(description=\"打招呼\")\n",
    "\n",
    "# 创建一个输出框\n",
    "output = widgets.Output()"
   ]
  },
  {
   "cell_type": "markdown",
   "id": "b0ee24a3-2c5e-410c-b088-c5dffbcac1f8",
   "metadata": {},
   "source": [
    "## 定义事件处理函数\n",
    "我们需要定义一个处理函数，用于处理用户交互事件。在本例中，我们将定义一个函数来处理按钮的点击事件，并在输出框中显示问候语。"
   ]
  },
  {
   "cell_type": "code",
   "execution_count": null,
   "id": "717fd9e4-d91d-425f-b685-20aa56ebf2d6",
   "metadata": {},
   "outputs": [],
   "source": [
    "# 定义一个函数 greet_user，该函数接受一个参数 sender，sender 表示触发事件的对象，比如一个按钮\n",
    "def greet_user(sender):\n",
    "    # 使用 with 语句和 output 对象来捕获 print 函数的输出，使其显示在预期的输出区域\n",
    "    # output 是已经定义好的输出对象\n",
    "    with output:\n",
    "        # 使用 print 函数输出问候语，其中使用 format 方法将 text 控件的当前值插入到字符串中\n",
    "        # \"{}\" 是一个占位符，format 函数会将其替换为 text.value 的值\n",
    "        print(\"你好，{}\".format(text.value))\n",
    "\n",
    "# 使用 on_click 方法将按钮的点击事件与 greet_user 函数关联起来\n",
    "# 当用户点击这个按钮时，将调用 greet_user 函数\n",
    "button.on_click(greet_user)"
   ]
  },
  {
   "cell_type": "markdown",
   "id": "fce8da24-0920-4c98-b72f-6d54bc820de0",
   "metadata": {},
   "source": [
    "## 显示UI界面\n",
    "最后，我们将所有的UI组件放在一个布局中，并通过display函数显示出来。"
   ]
  },
  {
   "cell_type": "code",
   "execution_count": null,
   "id": "9f760c9a-8154-4095-8c46-5b651302eefc",
   "metadata": {},
   "outputs": [],
   "source": [
    "# 将所有组件放在一个垂直布局中\n",
    "ui = widgets.VBox([text, button, output])\n",
    "\n",
    "# 显示UI界面\n",
    "display(ui)"
   ]
  },
  {
   "cell_type": "markdown",
   "id": "550c4364-b075-48fa-a6c3-abbaf2ec30cc",
   "metadata": {},
   "source": [
    "通过这些步骤，我们就可以在JupyterLab中构建一个简单的UI界面了。用户可以在文本框中输入内容，点击按钮后，程序会根据输入内容在输出框中显示相应的问候语。"
   ]
  }
 ],
 "metadata": {
  "kernelspec": {
   "display_name": "Python 3 (ipykernel)",
   "language": "python",
   "name": "python3"
  },
  "language_info": {
   "codemirror_mode": {
    "name": "ipython",
    "version": 3
   },
   "file_extension": ".py",
   "mimetype": "text/x-python",
   "name": "python",
   "nbconvert_exporter": "python",
   "pygments_lexer": "ipython3",
   "version": "3.10.12"
  }
 },
 "nbformat": 4,
 "nbformat_minor": 5
}
