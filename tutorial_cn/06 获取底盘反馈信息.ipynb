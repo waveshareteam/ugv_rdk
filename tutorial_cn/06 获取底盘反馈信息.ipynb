{
 "cells": [
  {
   "cell_type": "markdown",
   "id": "1714619b-a3e9-4dd7-a1a9-b49b14c9ca6c",
   "metadata": {},
   "source": [
    "# 获取底盘反馈信息\n",
    "\n",
    "产品开机后，下位机默认会持续向上位机反馈各类信息，你可以通过这些反馈信息来获取目前产品的工作状态。\n",
    "\n",
    "通常来说，你需要连续获取下位机反馈的信息，但在本例程中，我们只获取一个由下位机反馈的 JSON 信息（注释掉或删除 break 这行即可连续获取反馈信息）。\n",
    "\n",
    "选中以下的代码块，使用 Ctrl + Enter 运行该代码块，当它获取第一条完整的且T值为 1001 的 JSON 信息后会跳出循环并输出反馈信息，反馈信息包含当前车轮转速、IMU、云台角度（如果有安装的话）、机械臂角度（如果有安装的话）、电源电压等信息。"
   ]
  },
  {
   "cell_type": "code",
   "execution_count": 1,
   "id": "7a4ff19a-2e1a-44e4-8c1d-32d455b8ba5b",
   "metadata": {},
   "outputs": [
    {
     "name": "stdout",
     "output_type": "stream",
     "text": [
      "{'T': 1001, 'L': 0, 'R': 0, 'r': -1.165784478, 'p': 1.267190589, 'v': 11.9969902}\n"
     ]
    }
   ],
   "source": [
    "from base_ctrl import BaseController\n",
    "import json\n",
    "\n",
    "base = BaseController('/dev/ttyTHS0', 115200)\n",
    "\n",
    "# 使用无限循环来不断监听串口数据\n",
    "while True:\n",
    "    try:\n",
    "        # 从串口读取一行数据，解码成 'utf-8' 格式的字符串，并尝试将其转换为 JSON 对象\n",
    "        data_recv_buffer = json.loads(base.rl.readline().decode('utf-8'))\n",
    "        # 检查解析出的数据中是否包含 'T' 键\n",
    "        if 'T' in data_recv_buffer:\n",
    "            # 如果 'T' 的值为 1001，则打印接收到的数据，并跳出循环\n",
    "            if data_recv_buffer['T'] == 1001:\n",
    "                print(data_recv_buffer)\n",
    "                break\n",
    "    # 如果在读取或处理数据时发生异常，则忽略该异常并继续监听下一行数据\n",
    "    except:\n",
    "        pass"
   ]
  },
  {
   "cell_type": "markdown",
   "id": "4a6b53cd-446d-495c-b9bc-579368a01c2c",
   "metadata": {},
   "source": [
    "## 非堵塞方式获取串口发来的 JSON 信息\n",
    "\n",
    "以下的代码仅用于理解底层的串口读取 JSON 信息的原理，不可以执行下面的代码块。"
   ]
  },
  {
   "cell_type": "code",
   "execution_count": null,
   "id": "bfed11bf-67ed-40ae-ba96-4742d63da397",
   "metadata": {},
   "outputs": [],
   "source": [
    "class ReadLine:\n",
    "    # 构造函数，初始化 ReadLine 类的实例\n",
    "    # s: 传入的串口对象，用于与串口进行通信。\n",
    "    def __init__(self, s):\n",
    "        self.buf = bytearray()  # 初始化一个字节数组，用于存储从串口读取但尚未处理的数据\n",
    "        self.s = s  # 保存传入的串口对象，后续用于读取串口数据\n",
    "\n",
    "\tdef readline(self):\n",
    "\t\ti = self.buf.find(b\"\\n\") # 查找缓冲区中是否有换行符\n",
    "\t\tif i >= 0:\n",
    "\t\t\tr = self.buf[:i+1] # 如果有换行符，将换行符前的数据提取出来\n",
    "\t\t\tself.buf = self.buf[i+1:] # 更新缓冲区，去除已处理的数据\n",
    "\t\t\treturn r\n",
    "\t\twhile True:\n",
    "\t\t\ti = max(1, min(512, self.s.in_waiting)) # 获取可读取的字节数，最多512个字节\n",
    "\t\t\tdata = self.s.read(i) # 从串口读取数据\n",
    "\t\t\ti = data.find(b\"\\n\") # 查找换行符\n",
    "\t\t\tif i >= 0:\n",
    "\t\t\t\tr = self.buf + data[:i+1] # 如果找到换行符，将已读取的数据与缓冲区中的数据合并\n",
    "\t\t\t\tself.buf[0:] = data[i+1:] # 更新缓冲区，去除已处理的数据\n",
    "\t\t\t\treturn r\n",
    "\t\t\telse:\n",
    "\t\t\t\tself.buf.extend(data) # 如果未找到换行符，将数据添加到缓冲区"
   ]
  },
  {
   "cell_type": "markdown",
   "id": "02e2dfc2-167f-48f8-a045-f27278f2cb95",
   "metadata": {},
   "source": [
    "- 该方法用于从串口读取数据，并返回一行完整的JSON数据（以换行符\\n为分隔）。\n",
    "- 如果缓冲区中已经存在完整的一行数据，则直接返回该行数据。\n",
    "- 如果缓冲区中没有完整的一行数据，则通过 in_waiting 方法获取串口缓冲区中可读取的字节数，最多读取512字节。\n",
    "- 从串口读取数据，并将其与缓冲区中的数据合并。\n",
    "- 查找新读取数据中是否有换行符，如果有则提取完整的一行数据，并更新缓冲区。\n",
    "- 如果没有换行符，则将新读取的数据添加到缓冲区，继续读取直到找到换行符为止。行符为止。"
   ]
  },
  {
   "cell_type": "markdown",
   "id": "0d19fcf4-a9d2-4d8e-b92a-22a83705eab2",
   "metadata": {},
   "source": [
    "### 函数特性\n",
    "\n",
    "- 非阻塞: 这个函数使用了非阻塞的读取方式，即使串口没有数据可读，也不会阻塞程序的执行，而是等待有数据可读时才读取。\n",
    "- 高效: 采用了较小的缓冲区，每次最多读取512字节，减少了内存消耗，并且及时处理数据，避免了缓冲区溢出。\n",
    "- 灵活性: 可以灵活地读取任意长度的数据，并且自动处理换行符分割的数据，非常适用于读取JSON等结构化数据。\n",
    "- 可靠性: 在处理读取过程中考虑了各种情况，如缓冲区数据不足、读取数据中不含换行符等情况，保证了读取的准确性和稳定性。\n",
    "- 这个函数非常适合用于实时读取串口中的JSON数据，尤其是在需要非阻塞读取的情况下。情况下。"
   ]
  }
 ],
 "metadata": {
  "kernelspec": {
   "display_name": "Python 3 (ipykernel)",
   "language": "python",
   "name": "python3"
  },
  "language_info": {
   "codemirror_mode": {
    "name": "ipython",
    "version": 3
   },
   "file_extension": ".py",
   "mimetype": "text/x-python",
   "name": "python",
   "nbconvert_exporter": "python",
   "pygments_lexer": "ipython3",
   "version": "3.10.12"
  }
 },
 "nbformat": 4,
 "nbformat_minor": 5
}
