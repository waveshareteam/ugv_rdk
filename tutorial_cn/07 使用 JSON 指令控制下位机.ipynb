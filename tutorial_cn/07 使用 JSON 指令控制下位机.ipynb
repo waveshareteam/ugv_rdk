{
 "cells": [
  {
   "cell_type": "markdown",
   "id": "c5296480-b407-4196-ab47-5ee5553492ef",
   "metadata": {},
   "source": [
    "# 使用 JSON 指令控制下位机\n",
    "本产品使用大小脑架构开发，上位机通过串口（Jetson 通过 GPIO 串口）将 JSON 格式的命令发送给下位机。\n",
    "注意：本章课程作为后面介绍下位机JSON指令集的前置课程，内容于前面的 Python 底盘运动控制章节的内容相似，如果你已知了解过那个章节，可以简单了解下 JSON 数据格式的优点后直接学习 JSON 指令集。\n",
    "## JSON 数据格式的优点\n",
    "JSON（JavaScript Object Notation）是一种轻量级的数据交换格式，它已经成为互联网上数据传输的标准之一。以下是JSON的一些优势：\n",
    "- 可读性强：JSON采用了一种易于人类理解和编写的文本格式，使用键值对的形式组织数据，这使得数据在传输和存储时更加易于阅读和理解。\n",
    "\n",
    "- 轻量级：相比于XML等其他数据格式，JSON的语法更加简洁紧凑，因此它更加轻量级，能够减少数据传输的大小和网络带宽的占用，提高传输效率。\n",
    "\n",
    "- 易于解析：JSON数据结构简单明了，易于解析和序列化，几乎所有的编程语言都提供了JSON的解析和生成库，使得开发人员可以方便地处理JSON数据。\n",
    "\n",
    "- 与各种语言兼容性好：JSON几乎在所有编程语言中都有支持，因此可以很方便地在不同的平台和系统中进行数据交换和通信。\n",
    "\n",
    "- 支持多种数据类型：JSON支持多种数据类型，包括字符串、数字、布尔值、数组和对象等，这使得它可以灵活地表示各种类型的数据结构。\n",
    "\n",
    "- 与Web技术无缝结合：JSON最初是由JavaScript发展而来，因此与Web技术的集成非常紧密，它与JavaScript语言的兼容性非常好，可以很方便地在Web应用中使用。方便地在Web应用中使用。"
   ]
  },
  {
   "cell_type": "markdown",
   "id": "48594859-e4c0-41ad-822c-d06e3bac74d5",
   "metadata": {},
   "source": [
    "## 简单的 JSON 指令控制下位机例程\n",
    "\n",
    "在下面的例程中，你需要使用正确的 GPIO 设备名称，且使用与下位机相同的波特率（默认为115200）。\n",
    "\n",
    "运行以下代码块之前你需要先将产品架高起量，保持驱动轮全部离地，调用以下代码块后机器人会开始走动，小心不要让机器人从桌面上掉落。"
   ]
  },
  {
   "cell_type": "code",
   "execution_count": null,
   "id": "0d264a5e-e61e-4689-808c-b36152096c0c",
   "metadata": {
    "scrolled": true
   },
   "outputs": [],
   "source": [
    "from base_ctrl import BaseController\n",
    "import time\n",
    "\n",
    "base = BaseController('/dev/ttyTHS0', 115200)\n",
    "\n",
    "# 轮子以0.2m/s的速度转动2秒钟后停止\n",
    "base.send_command({\"T\":1,\"L\":0.2,\"R\":0.2})\n",
    "time.sleep(2)\n",
    "base.send_command({\"T\":1,\"L\":0,\"R\":0})"
   ]
  },
  {
   "cell_type": "markdown",
   "id": "b66ee0da-d5cd-49aa-9f07-d993506fe9a7",
   "metadata": {},
   "source": [
    "通过调用上面的代码块，Jetson 会首先发送 {\"T\":1,\"L\":0.2,\"R\":0.2} 这条指令（后面章节我们会再具体介绍指令的构成），车轮开始转动，间隔两秒钟后树莓派会发送 {\"T\":1,\"L\":0,\"R\":0} 这条指令，车轮会停止转动，这里需要注意的一点是，即使不发送后面的停止车轮转动的指令，如果你没有发送新的指令，车轮依然会停止转动，这是因为下位机内含有心跳函数，心跳函数的做用是在上位机长时间没有新的指令发送给下位机时，下位机自动停止目前的移动指令，改函数的目的是为了避免上位机由于某些原因死机而导致下位机继续运动。\n",
    "\n",
    "如果你希望机器人一直持续不断地运动下去，上位机需要每隔2秒-4秒循环发送运动控制的指令。"
   ]
  }
 ],
 "metadata": {
  "kernelspec": {
   "display_name": "Python 3 (ipykernel)",
   "language": "python",
   "name": "python3"
  },
  "language_info": {
   "codemirror_mode": {
    "name": "ipython",
    "version": 3
   },
   "file_extension": ".py",
   "mimetype": "text/x-python",
   "name": "python",
   "nbconvert_exporter": "python",
   "pygments_lexer": "ipython3",
   "version": "3.10.12"
  }
 },
 "nbformat": 4,
 "nbformat_minor": 5
}
