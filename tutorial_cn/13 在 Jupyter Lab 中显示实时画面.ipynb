{
 "cells": [
  {
   "cell_type": "markdown",
   "id": "208c7f08-d7f6-45c5-85e2-daf606cde4cb",
   "metadata": {},
   "source": [
    "# 在 Jupyter Lab 中显示实时视频画面\n",
    "在上一章中我们使用 Flask 来显示摄像头的实时画面，那个方法需要在浏览器中格外开启一个新标签页或者使用其它设备打开浏览器来访问，在本章教程中我们使用在 Jupyter Lab 中观看实时视频画面的方案。"
   ]
  },
  {
   "cell_type": "markdown",
   "id": "a7e10745-58e6-46ee-b887-8c46ead19286",
   "metadata": {},
   "source": [
    "## 准备工作\n",
    "由于产品开机默认会自动运行主程序，主程序会占用摄像头资源，这种情况下是不能使用本教程的，需要结束主程序或禁止主程序自动运行后再重新启动机器人。\n",
    "\n",
    "如果你已经禁用了机器人主程序的开机自动运行，则不需要执行下面的`结束主程序`章节。\n",
    "\n",
    "### 结束主程序\n",
    "1. 点击上方本页面选项卡旁边的 “+”号，会打开一个新的名为 Launcher 的选项卡。\n",
    "2. 点击 Other 内的 Terminal，打开终端窗口。\n",
    "3. 在终端窗口内输入 `bash` 后按回车。\n",
    "4. 现在你可以使用 Bash Shell 来控制机器人了。\n",
    "5. 输入命令： `sudo killall -9 python`。"
   ]
  },
  {
   "cell_type": "markdown",
   "id": "6f8942b4-7f23-43b8-a73c-1542b9e9de27",
   "metadata": {},
   "source": [
    "## 例程\n",
    "以下代码块可以直接运行：\n",
    "\n",
    "1. 选中下面的代码块\n",
    "2. 按 Shift + Enter 运行代码块\n",
    "3. 观看实时视频窗口\n",
    "4. 按 `STOP` 关闭实时视频，释放摄像头资源\n",
    "\n",
    "### 如果运行时不能看到摄像头实时画面\n",
    "- 需要点击上方的 Kernel - Shut down all kernels\n",
    "- 关闭本章节选项卡，再次打开\n",
    "- 点击 `STOP` 释放摄像头资源后重新运行代码块\n",
    "- 重启设备\n"
   ]
  },
  {
   "cell_type": "code",
   "execution_count": null,
   "id": "bd426239-12fd-4ec9-a555-bd848af57f63",
   "metadata": {},
   "outputs": [],
   "source": [
    "import matplotlib.pyplot as plt  # 导入 matplotlib 库用于绘图\n",
    "import cv2  # 导入 OpenCV 库用于图像处理\n",
    "import numpy as np  # 导入 NumPy 库用于数学计算\n",
    "from IPython.display import display, Image  # 导入 IPython 显示功能\n",
    "import ipywidgets as widgets  # 导入 ipywidgets 库用于创建交互式控件\n",
    "import threading  # 导入 threading 库用于多线程编程\n",
    "\n",
    "# 创建一个切换按钮作为停止按钮\n",
    "stopButton = widgets.ToggleButton(\n",
    "    value=False,  # 按钮的初始状态为未选中\n",
    "    description='Stop',  # 按钮上显示的文本\n",
    "    disabled=False,  # 按钮初始为可用状态\n",
    "    button_style='danger',  # 按钮样式为红色\n",
    "    tooltip='Description',  # 鼠标悬停在按钮上时的提示信息\n",
    "    icon='square'  # 按钮上显示的图标\n",
    ")\n",
    "\n",
    "# 定义一个函数用于显示视频流\n",
    "def view(button):\n",
    "    camera = cv2.VideoCapture(-1) # 创建摄像头实例\n",
    "    #设置分辨率\n",
    "    camera.set(cv2.CAP_PROP_FRAME_WIDTH, 640)\n",
    "    camera.set(cv2.CAP_PROP_FRAME_HEIGHT, 480)\n",
    "    \n",
    "    display_handle=display(None, display_id=True)  # 创建一个显示句柄，用于更新显示的内容\n",
    "    while True:\n",
    "        _, frame = camera.read() # 从摄像头捕获一帧图像\n",
    "\n",
    "        _, frame = cv2.imencode('.jpeg', frame)  # 将图像帧编码为 JPEG 格式\n",
    "        display_handle.update(Image(data=frame.tobytes()))  # 更新显示的图像\n",
    "        if stopButton.value==True:  # 检查停止按钮是否被按下\n",
    "            # picam2.close()  # 如果是，则关闭摄像头\n",
    "            camera.release() # 如果是，则关闭摄像头\n",
    "            display_handle.update(None)  # 清空显示的内容\n",
    "\n",
    "# 显示停止按钮\n",
    "display(stopButton)\n",
    "# 创建并启动一个线程，目标函数是 view 函数，参数是停止按钮\n",
    "thread = threading.Thread(target=view, args=(stopButton,))\n",
    "thread.start()  # 启动线程"
   ]
  }
 ],
 "metadata": {
  "kernelspec": {
   "display_name": "Python 3 (ipykernel)",
   "language": "python",
   "name": "python3"
  },
  "language_info": {
   "codemirror_mode": {
    "name": "ipython",
    "version": 3
   },
   "file_extension": ".py",
   "mimetype": "text/x-python",
   "name": "python",
   "nbconvert_exporter": "python",
   "pygments_lexer": "ipython3",
   "version": "3.10.12"
  }
 },
 "nbformat": 4,
 "nbformat_minor": 5
}
