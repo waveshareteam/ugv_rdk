{
 "cells": [
  {
   "cell_type": "markdown",
   "id": "46106a69-f073-4515-9470-ccbbe9944808",
   "metadata": {},
   "source": [
    "# 基于 OpenCV 的人脸识别\n",
    "本章节介绍如何使用 OpenCV 来比对特征库，实现人脸识别功能，该功能的效率不如 MediaPipe 的方案高，但是该方案可以通过更换特征库文件来检测其它物体。"
   ]
  },
  {
   "cell_type": "markdown",
   "id": "ab91a0c6-9684-4137-927b-05cb5d6092e6",
   "metadata": {
    "jp-MarkdownHeadingCollapsed": true
   },
   "source": [
    "## 准备工作\n",
    "由于产品开机默认会自动运行主程序，主程序会占用摄像头资源，这种情况下是不能使用本教程的，需要结束主程序或禁止主程序自动运行后再重新启动机器人。\n",
    "\n",
    "如果你已经禁用了机器人主程序的开机自动运行，则不需要执行下面的`结束主程序`章节。\n",
    "\n",
    "### 结束主程序\n",
    "1. 点击上方本页面选项卡旁边的 “+”号，会打开一个新的名为 Launcher 的选项卡。\n",
    "2. 点击 Other 内的 Terminal，打开终端窗口。\n",
    "3. 在终端窗口内输入 `bash` 后按回车。\n",
    "4. 现在你可以使用 Bash Shell 来控制机器人了。\n",
    "5. 输入命令： `sudo killall -9 python`。"
   ]
  },
  {
   "cell_type": "markdown",
   "id": "af5333a6-d5bc-4a69-af3a-8761cfdc2954",
   "metadata": {},
   "source": [
    "## 例程\n",
    "以下代码块可以直接运行：\n",
    "\n",
    "1. 选中下面的代码块\n",
    "2. 按 Shift + Enter 运行代码块\n",
    "3. 观看实时视频窗口\n",
    "4. 按 `STOP` 关闭实时视频，释放摄像头资源\n",
    "\n",
    "### 如果运行时不能看到摄像头实时画面\n",
    "- 需要点击上方的 Kernel - Shut down all kernels\n",
    "- 关闭本章节选项卡，再次打开\n",
    "- 点击 `STOP` 释放摄像头资源后重新运行代码块\n",
    "- 重启设备\n",
    "\n",
    "### 本章节特性\n",
    "人脸特征库文件与本`.ipynb`处于同一路径内，你可以通过更改 faceCascade 来更改需要检测的内容，你需要使用其它的特征文件来替换当前的 `haarcascade_frontalface_default.xml`。\n",
    "\n",
    "当代码块正常运行时，你可以让机器人的摄像头对准人脸，观察画面中会自动圈出人脸所在的位置。"
   ]
  },
  {
   "cell_type": "code",
   "execution_count": null,
   "id": "6a4bfe9a-4f7f-410a-a023-350869ae3a0c",
   "metadata": {},
   "outputs": [],
   "source": [
    "import cv2  # 导入 OpenCV 库，用于图像处理\n",
    "import numpy as np  # 用于数学计算的库\n",
    "from IPython.display import display, Image  # 用于在 Jupyter Notebook 中显示图像\n",
    "import ipywidgets as widgets  # 用于创建交互式界面的小部件，如按钮\n",
    "import threading  # 用于创建新线程，以便异步执行任务\n",
    "\n",
    "# 加载 Haar 特征级联分类器用于面部检测\n",
    "faceCascade = cv2.CascadeClassifier('haarcascade_frontalface_default.xml')\n",
    "\n",
    "# 创建一个“停止”按钮，用户可以通过点击它来停止视频流\n",
    "# ================\n",
    "stopButton = widgets.ToggleButton(\n",
    "    value=False,\n",
    "    description='Stop',\n",
    "    disabled=False,\n",
    "    button_style='danger', # 'success', 'info', 'warning', 'danger' or ''\n",
    "    tooltip='Description',\n",
    "    icon='square' # (FontAwesome names without the `fa-` prefix)\n",
    ")\n",
    "\n",
    "\n",
    "# 定义显示函数，用于处理视频帧并进行面部检测\n",
    "# ================\n",
    "def view(button):\n",
    "    camera = cv2.VideoCapture(-1) # 创建摄像头实例\n",
    "    #设置分辨率\n",
    "    camera.set(cv2.CAP_PROP_FRAME_WIDTH, 640)\n",
    "    camera.set(cv2.CAP_PROP_FRAME_HEIGHT, 480)\n",
    "    \n",
    "    display_handle=display(None, display_id=True)  # 创建显示句柄用于更新显示的图像\n",
    "    i = 0\n",
    "    \n",
    "    avg = None\n",
    "    \n",
    "    while True:\n",
    "        # frame = picam2.capture_array()\n",
    "        _, frame = camera.read() # 从摄像头捕获一帧图像\n",
    "        # frame = cv2.flip(frame, 1) # if your camera reverses your image\n",
    "\n",
    "        img = cv2.cvtColor(frame, cv2.COLOR_RGB2BGR)  # 将图像从 RGB 转换为 BGR，因为 OpenCV 默认使用 BGR\n",
    "        gray = cv2.cvtColor(img, cv2.COLOR_BGR2GRAY)  # 将图像转换为灰度图，因为面部检测通常在灰度图上进行\n",
    "\n",
    "        # 使用级联分类器进行面部检测\n",
    "        faces = faceCascade.detectMultiScale(\n",
    "                gray,     \n",
    "                scaleFactor=1.2,\n",
    "                minNeighbors=5,     \n",
    "                minSize=(20, 20)\n",
    "            )\n",
    "\n",
    "        if len(faces):\n",
    "            for (x,y,w,h) in faces: # 遍历所有检测到的面部\n",
    "                cv2.rectangle(frame,(x,y),(x+w,y+h),(64,128,255),1) # 在检测到的面部周围画一个矩形框\n",
    "        \n",
    "        _, frame = cv2.imencode('.jpeg', frame) # 将帧编码为 JPEG 格式\n",
    "        display_handle.update(Image(data=frame.tobytes()))\n",
    "        if stopButton.value==True:\n",
    "            # picam2.close() # 如果是，则关闭摄像头\n",
    "            cv2.release() # 如果是，则关闭摄像头\n",
    "            display_handle.update(None)\n",
    "\n",
    "            \n",
    "# 显示“停止”按钮并启动显示函数的线程\n",
    "# ================\n",
    "display(stopButton)\n",
    "thread = threading.Thread(target=view, args=(stopButton,))\n",
    "thread.start()"
   ]
  },
  {
   "cell_type": "code",
   "execution_count": null,
   "id": "bf666d2c-39ef-4d6b-bf70-a0fa38c87d47",
   "metadata": {},
   "outputs": [],
   "source": []
  }
 ],
 "metadata": {
  "kernelspec": {
   "display_name": "Python 3 (ipykernel)",
   "language": "python",
   "name": "python3"
  },
  "language_info": {
   "codemirror_mode": {
    "name": "ipython",
    "version": 3
   },
   "file_extension": ".py",
   "mimetype": "text/x-python",
   "name": "python",
   "nbconvert_exporter": "python",
   "pygments_lexer": "ipython3",
   "version": "3.10.12"
  }
 },
 "nbformat": 4,
 "nbformat_minor": 5
}
