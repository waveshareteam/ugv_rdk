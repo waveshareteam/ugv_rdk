{
 "cells": [
  {
   "cell_type": "markdown",
   "id": "b37e3abe-90c6-465e-90d0-2de0cebbee87",
   "metadata": {},
   "source": [
    "# 基于 OpenCV 的颜色识别\n",
    "在本章教程中我们会在 OpenCV 的相关功能中加入一些修改帧画面相关的函数，例如模糊，色彩空间转换，腐蚀和膨胀。"
   ]
  },
  {
   "cell_type": "markdown",
   "id": "42a31d6d-ec81-48fb-abe6-e369a417ee3b",
   "metadata": {
    "jp-MarkdownHeadingCollapsed": true
   },
   "source": [
    "## 准备工作\n",
    "由于产品开机默认会自动运行主程序，主程序会占用摄像头资源，这种情况下是不能使用本教程的，需要结束主程序或禁止主程序自动运行后再重新启动机器人。\n",
    "\n",
    "如果你已经禁用了机器人主程序的开机自动运行，则不需要执行下面的`结束主程序`章节。\n",
    "\n",
    "### 结束主程序\n",
    "1. 点击上方本页面选项卡旁边的 “+”号，会打开一个新的名为 Launcher 的选项卡。\n",
    "2. 点击 Other 内的 Terminal，打开终端窗口。\n",
    "3. 在终端窗口内输入 `bash` 后按回车。\n",
    "4. 现在你可以使用 Bash Shell 来控制机器人了。\n",
    "5. 输入命令： `sudo killall -9 python`。"
   ]
  },
  {
   "cell_type": "markdown",
   "id": "54600816-0843-4e31-a339-133a13af6c60",
   "metadata": {},
   "source": [
    "## 例程\n",
    "以下代码块可以直接运行：\n",
    "\n",
    "1. 选中下面的代码块\n",
    "2. 按 Shift + Enter 运行代码块\n",
    "3. 观看实时视频窗口\n",
    "4. 按 `STOP` 关闭实时视频，释放摄像头资源\n",
    "\n",
    "### 如果运行时不能看到摄像头实时画面\n",
    "- 需要点击上方的 Kernel - Shut down all kernels\n",
    "- 关闭本章节选项卡，再次打开\n",
    "- 点击 `STOP` 释放摄像头资源后重新运行代码块\n",
    "- 重启设备\n",
    "\n",
    "### 运行\n",
    "\n",
    "我们在例程中默认检测蓝色小球，确保画面背景中没有蓝色物体影响颜色识别功能，你也可以通过二次开发来更改检测颜色（HSV色彩空间）。"
   ]
  },
  {
   "cell_type": "code",
   "execution_count": null,
   "id": "723c04fd-11b7-430c-9211-031f95f1f593",
   "metadata": {},
   "outputs": [],
   "source": [
    "import cv2\n",
    "import imutils, math\n",
    "import numpy as np  # 用于数学计算的库\n",
    "from IPython.display import display, Image  # 用于在 Jupyter Notebook 中显示图像\n",
    "import ipywidgets as widgets  # 用于创建交互式界面的小部件，如按钮\n",
    "import threading  # 用于创建新线程，以便异步执行任务\n",
    "\n",
    "# 创建一个“停止”按钮，用户可以通过点击它来停止视频流\n",
    "# ================\n",
    "stopButton = widgets.ToggleButton(\n",
    "    value=False,\n",
    "    description='Stop',\n",
    "    disabled=False,\n",
    "    button_style='danger', # 'success', 'info', 'warning', 'danger' or ''\n",
    "    tooltip='Description',\n",
    "    icon='square' # (FontAwesome names without the `fa-` prefix)\n",
    ")\n",
    "\n",
    "# 定义显示函数，用于处理视频帧并识别特定颜色的物体\n",
    "def view(button):\n",
    "    camera = cv2.VideoCapture(-1) # 创建摄像头实例\n",
    "    #设置分辨率\n",
    "    camera.set(cv2.CAP_PROP_FRAME_WIDTH, 640)\n",
    "    camera.set(cv2.CAP_PROP_FRAME_HEIGHT, 480)\n",
    "    \n",
    "    display_handle=display(None, display_id=True)  # 创建显示句柄用于更新显示的图像\n",
    "    i = 0\n",
    "    \n",
    "    # 定义要检测的颜色范围\n",
    "    color_upper = np.array([120, 255, 220])\n",
    "    color_lower = np.array([90, 120, 90])\n",
    "    min_radius = 12  # 定义检测物体的最小半径\n",
    "    \n",
    "    while True:\n",
    "        # img = picam2.capture_array() # 从摄像头捕获一帧图像\n",
    "        _, img = camera.read() # 从摄像头捕获一帧图像\n",
    "        # frame = cv2.flip(frame, 1) # if your camera reverses your image\n",
    "        \n",
    "        blurred = cv2.GaussianBlur(img, (11, 11), 0)  # 对图像应用高斯模糊，以去除噪声\n",
    "        hsv = cv2.cvtColor(blurred, cv2.COLOR_BGR2HSV)  # 将图像从 BGR 转换为 HSV 颜色空间\n",
    "        mask = cv2.inRange(hsv, color_lower, color_upper)  # 创建掩模以便只保留特定颜色范围内的物体\n",
    "        mask = cv2.erode(mask, None, iterations=5)  # 对掩模应用腐蚀操作，以去除小的白点\n",
    "        mask = cv2.dilate(mask, None, iterations=5)  # 对掩模应用膨胀操作，以使物体区域更加突出\n",
    "\n",
    "        # 查找掩模中的轮廓\n",
    "        cnts = cv2.findContours(mask.copy(), cv2.RETR_EXTERNAL, cv2.CHAIN_APPROX_SIMPLE)\n",
    "        cnts = imutils.grab_contours(cnts)  # 提取轮廓\n",
    "        center = None  # 初始化物体的中心点\n",
    "\n",
    "        if len(cnts) > 0:\n",
    "            # find the largest contour in the mask, then use\n",
    "            # it to compute the minimum enclosing circle and\n",
    "            # centroid\n",
    "            c = max(cnts, key=cv2.contourArea)  # 找到最大的轮廓\n",
    "            ((x, y), radius) = cv2.minEnclosingCircle(c)  # 计算轮廓的最小封闭圆\n",
    "            M = cv2.moments(c)  # 计算轮廓的矩\n",
    "            center = (int(M[\"m10\"] / M[\"m00\"]), int(M[\"m01\"] / M[\"m00\"]))  # 根据矩计算轮廓的中心点\n",
    "\n",
    "            if radius > min_radius:  # 如果最小封闭圆的半径大于预设的最小半径，则绘制圆圈和中心点\n",
    "                cv2.circle(img, (int(x), int(y)), int(radius), (128, 255, 255), 1)  # 绘制最小封闭圆\n",
    "        \n",
    "        _, frame = cv2.imencode('.jpeg', img)  # 将帧编码为 JPEG 格式\n",
    "        display_handle.update(Image(data=frame.tobytes()))  # 更新显示的图像\n",
    "        if stopButton.value==True:  # 检查“停止”按钮是否被按下\n",
    "            # picam2.close()  # 如果是，则关闭摄像头\n",
    "            cv2.release() # 如果是，则关闭摄像头\n",
    "            display_handle.update(None)  # 清空显示的内容\n",
    "\n",
    "\n",
    "# 显示“停止”按钮并启动显示函数的线程\n",
    "# ================\n",
    "display(stopButton)\n",
    "thread = threading.Thread(target=view, args=(stopButton,))\n",
    "thread.start()"
   ]
  },
  {
   "cell_type": "code",
   "execution_count": null,
   "id": "1b4ffe63-ea01-4532-a4a2-f11eb0df3671",
   "metadata": {},
   "outputs": [],
   "source": []
  }
 ],
 "metadata": {
  "kernelspec": {
   "display_name": "Python 3 (ipykernel)",
   "language": "python",
   "name": "python3"
  },
  "language_info": {
   "codemirror_mode": {
    "name": "ipython",
    "version": 3
   },
   "file_extension": ".py",
   "mimetype": "text/x-python",
   "name": "python",
   "nbconvert_exporter": "python",
   "pygments_lexer": "ipython3",
   "version": "3.10.12"
  }
 },
 "nbformat": 4,
 "nbformat_minor": 5
}
