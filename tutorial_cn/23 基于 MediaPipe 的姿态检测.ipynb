{
 "cells": [
  {
   "cell_type": "markdown",
   "id": "85c4fd43-5f29-4730-809e-636c10579e89",
   "metadata": {},
   "source": [
    "# 基于 MediaPipe 的姿态检测\n",
    "本章节介绍如何使用 MediaPipe + OpenCV 来实现姿态检测。"
   ]
  },
  {
   "cell_type": "markdown",
   "id": "970758cf-56c0-434d-8b73-6b87811afcc8",
   "metadata": {},
   "source": [
    "## 什么是 MediaPipe?\n",
    "MediaPipe 是 Google 开发的一种开源框架，用于构建基于机器学习的多媒体处理应用程序。它提供了一组工具和库，可以用于处理视频、音频和图像数据，并应用机器学习模型来实现各种功能，如姿态估计、手势识别、人脸检测等。MediaPipe 的设计目标是提供高效、灵活和易用的解决方案，使开发者能够快速构建出各种多媒体处理应用。"
   ]
  },
  {
   "cell_type": "markdown",
   "id": "9deddf12-7e89-4e1f-b6de-fe343f6743e0",
   "metadata": {
    "jp-MarkdownHeadingCollapsed": true
   },
   "source": [
    "## 准备工作\n",
    "由于产品开机默认会自动运行主程序，主程序会占用摄像头资源，这种情况下是不能使用本教程的，需要结束主程序或禁止主程序自动运行后再重新启动机器人。\n",
    "\n",
    "如果你已经禁用了机器人主程序的开机自动运行，则不需要执行下面的`结束主程序`章节。\n",
    "\n",
    "### 结束主程序\n",
    "1. 点击上方本页面选项卡旁边的 “+”号，会打开一个新的名为 Launcher 的选项卡。\n",
    "2. 点击 Other 内的 Terminal，打开终端窗口。\n",
    "3. 在终端窗口内输入 `bash` 后按回车。\n",
    "4. 现在你可以使用 Bash Shell 来控制机器人了。\n",
    "5. 输入命令： `sudo killall -9 python`。"
   ]
  },
  {
   "cell_type": "markdown",
   "id": "2e1a36d1-fa2c-4701-92bb-1168f4d114f8",
   "metadata": {},
   "source": [
    "## 例程\n",
    "以下代码块可以直接运行：\n",
    "\n",
    "1. 选中下面的代码块\n",
    "2. 按 Shift + Enter 运行代码块\n",
    "3. 观看实时视频窗口\n",
    "4. 按 `STOP` 关闭实时视频，释放摄像头资源\n",
    "\n",
    "### 如果运行时不能看到摄像头实时画面\n",
    "- 需要点击上方的 Kernel - Shut down all kernels\n",
    "- 关闭本章节选项卡，再次打开\n",
    "- 点击 `STOP` 释放摄像头资源后重新运行代码块\n",
    "- 重启设备\n",
    "\n",
    "\n",
    "### 本章节特性\n",
    "当代码块正常运行时，当画面中出现人脸，MediaPipe 会自动标记出人肢体的关节。"
   ]
  },
  {
   "cell_type": "code",
   "execution_count": null,
   "id": "e6490793-4079-4f0f-b555-c06e21a93505",
   "metadata": {},
   "outputs": [],
   "source": [
    "import cv2  # 导入 OpenCV 库，用于图像处理\n",
    "import imutils, math  # 辅助图像处理和数学运算的库\n",
    "from IPython.display import display, Image  # 用于在 Jupyter Notebook 中显示图像\n",
    "import ipywidgets as widgets  # 用于创建交互式界面的小部件，如按钮\n",
    "import threading  # 用于创建新线程，以便异步执行任务\n",
    "import mediapipe as mp  # 导入 MediaPipe 库，用于姿态检测\n",
    "\n",
    "# 创建一个“停止”按钮，用户可以通过点击它来停止视频流\n",
    "# ================\n",
    "stopButton = widgets.ToggleButton(\n",
    "    value=False,\n",
    "    description='Stop',\n",
    "    disabled=False,\n",
    "    button_style='danger', # 'success', 'info', 'warning', 'danger' or ''\n",
    "    tooltip='Description',\n",
    "    icon='square' # (FontAwesome names without the `fa-` prefix)\n",
    ")\n",
    "\n",
    "# 初始化 MediaPipe 的绘图工具和姿态检测模型\n",
    "mpDraw = mp.solutions.drawing_utils\n",
    "\n",
    "\n",
    "# MediaPipe Hand GS\n",
    "mp_pose = mp.solutions.pose\n",
    "pose = mp_pose.Pose(static_image_mode=False, \n",
    "                    model_complexity=1, \n",
    "                    smooth_landmarks=True, \n",
    "                    min_detection_confidence=0.5, \n",
    "                    min_tracking_confidence=0.5)\n",
    "\n",
    "# 定义显示函数，用于处理视频帧并进行姿态检测\n",
    "def view(button):\n",
    "    camera = cv2.VideoCapture(-1) # 创建摄像头实例\n",
    "    #设置分辨率\n",
    "    camera.set(cv2.CAP_PROP_FRAME_WIDTH, 640)\n",
    "    camera.set(cv2.CAP_PROP_FRAME_HEIGHT, 480)\n",
    "    \n",
    "    display_handle=display(None, display_id=True)  # 创建显示句柄用于更新显示的图像\n",
    "    \n",
    "    while True:\n",
    "        # frame = picam2.capture_array()\n",
    "        _, frame = camera.read() # 从摄像头捕获一帧图像\n",
    "        # frame = cv2.flip(frame, 1) # if your camera reverses your image\n",
    "\n",
    "        # frame = cv2.cvtColor(frame, cv2.COLOR_BGR2RGB)\n",
    "\n",
    "        img = cv2.cvtColor(frame, cv2.COLOR_RGB2BGR)\n",
    "        \n",
    "        results = pose.process(img) # 使用 MediaPipe 处理图像，获取姿态检测结果\n",
    "\n",
    "         # 如果检测到姿态关键点\n",
    "        if results.pose_landmarks:\n",
    "            frame = cv2.cvtColor(frame, cv2.COLOR_RGB2BGR)  # 将图像从 RGB 转换为 BGR 以供绘制使用\n",
    "            mpDraw.draw_landmarks(frame, results.pose_landmarks, mp_pose.POSE_CONNECTIONS)  # 使用 MediaPipe 的绘图工具绘制姿态关键点和连接线\n",
    "            frame = cv2.cvtColor(frame, cv2.COLOR_BGR2RGB)  # 将图像从 BGR 转换回 RGB 以供显示\n",
    "            \n",
    "        _, frame = cv2.imencode('.jpeg', frame)  # 将处理后的帧编码为 JPEG 格式\n",
    "        display_handle.update(Image(data=frame.tobytes()))  # 更新显示的图像\n",
    "        if stopButton.value==True:  # 检查“停止”按钮是否被按下\n",
    "            # picam2.close()  # 如果是，则关闭摄像头\n",
    "            cv2.release() # 如果是，则关闭摄像头\n",
    "            display_handle.update(None)  # 清空显示的内容\n",
    "\n",
    "# 显示“停止”按钮并启动显示函数的线程\n",
    "display(stopButton)\n",
    "thread = threading.Thread(target=view, args=(stopButton,))\n",
    "thread.start()  # 启动线程"
   ]
  },
  {
   "cell_type": "code",
   "execution_count": null,
   "id": "49cf5b43-5eab-48ac-bcf3-ff6caebb1771",
   "metadata": {},
   "outputs": [],
   "source": []
  }
 ],
 "metadata": {
  "kernelspec": {
   "display_name": "Python 3 (ipykernel)",
   "language": "python",
   "name": "python3"
  },
  "language_info": {
   "codemirror_mode": {
    "name": "ipython",
    "version": 3
   },
   "file_extension": ".py",
   "mimetype": "text/x-python",
   "name": "python",
   "nbconvert_exporter": "python",
   "pygments_lexer": "ipython3",
   "version": "3.10.12"
  }
 },
 "nbformat": 4,
 "nbformat_minor": 5
}
