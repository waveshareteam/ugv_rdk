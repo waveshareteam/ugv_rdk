{
 "cells": [
  {
   "cell_type": "markdown",
   "id": "080d80f3-c073-40ee-961a-921a4a072890",
   "metadata": {},
   "source": [
    "# 自定义命令行功能\n",
    "\n",
    "为了方便对产品进行二次开发，我们在 WEB 应用中添加了一个命令行输入窗口，你可以在这个窗口里面输入命令，点击 SEND 按键后可以将这条命令发送给上位机应用，上位机应用根据你所发送的指令来执行相应的功能或调参。\n",
    "\n",
    "我们有一共一些现成的命令，你可以参考后续的 WEB 命令行应用章节来学习那些命令，在本章节中，我们会在介绍如何实现自定义命令行功能的同时，介绍这个功能是如何实现的，这样你可以更容易理解后续的章节。\n",
    "\n",
    "## 添加功能\n",
    "\n",
    "命令行功能的例程写在产品主程序的 app.py 中，由 cmdline_ctrl() 函数来处理命令行指令。以下是我们默认的命令行指令处理函数，这个函数是不完整的，因为产数后面的内容是其它功能的处理，省略掉那部分不影响对函数本身的理解。\n",
    "\n",
    "注意：下面的代码块不能在 JupyterLab 中运行，仅用于原理展示。"
   ]
  },
  {
   "cell_type": "code",
   "execution_count": null,
   "id": "c1e0cf48-877d-40b3-8285-e7886b3ef7f1",
   "metadata": {},
   "outputs": [],
   "source": [
    "def cmdline_ctrl(args_string):\n",
    "    if not args_string:\n",
    "        return\n",
    "    # 将输入的参数字符串分割成一个列表 args\n",
    "    args = args_str.split()\n",
    "    if args[0] == 'base':\n",
    "        self.info_update(\"CMD:\" + args_str, (0,255,255), 0.36)\n",
    "        if args[1] == '-c' or args[1] == '--cmd':\n",
    "            base.base_json_ctrl(json.loads(args[2]))\n",
    "        elif args[1] == '-r' or args[1] == '--recv':\n",
    "            if args[2] == 'on':\n",
    "                show_recv_flag = True\n",
    "            elif args[2] == 'off':\n",
    "                show_recv_flag = False\n",
    "\n",
    "    elif args[0] == 'info':\n",
    "        info_update_time = time.time()\n",
    "        show_info_flag = True\n",
    "\n",
    "    elif args[0] == 'audio':\n",
    "        self.info_update(\"CMD:\" + args_str, (0,255,255), 0.36)\n",
    "        if args[1] == '-s' or args[1] == '--say':\n",
    "            audio_ctrl.play_speech_thread(' '.join(args[2:]))\n",
    "        elif args[1] == '-v' or args[1] == '--volume':\n",
    "            audio_ctrl.set_audio_volume(args[2])\n",
    "        elif args[1] == '-p' or args[1] == '--play_file':\n",
    "            audio_ctrl.play_file(args[2])"
   ]
  },
  {
   "cell_type": "markdown",
   "id": "2a3bba14-9797-4873-98d5-f877c5ad32a2",
   "metadata": {},
   "source": [
    "我们以 audio -s hey hi hello 为例，这条指令用于文字转语音功能，audio代表这是一个音频相关的功能，-s 或 --say 是音频的文字转语音，后面接的参数是你想让它说话的内容，发送上面的指令后机器人会说 hey hi hello。\n",
    "\n",
    "首先当该函数接收到命令行指令后，由于命令行指令是一串字符串，所以需要先使用 args = args_str.split() 来将这个字符串转换为列表，再去判断列表中的每个值来执行相应的功能。\n",
    "\n",
    "如果你需要扩展其它的自定义功能，只需要再增加一个 eilf args[0] == 'newCmd' 即可。"
   ]
  }
 ],
 "metadata": {
  "kernelspec": {
   "display_name": "Python 3 (ipykernel)",
   "language": "python",
   "name": "python3"
  },
  "language_info": {
   "codemirror_mode": {
    "name": "ipython",
    "version": 3
   },
   "file_extension": ".py",
   "mimetype": "text/x-python",
   "name": "python",
   "nbconvert_exporter": "python",
   "pygments_lexer": "ipython3",
   "version": "3.10.12"
  }
 },
 "nbformat": 4,
 "nbformat_minor": 5
}
