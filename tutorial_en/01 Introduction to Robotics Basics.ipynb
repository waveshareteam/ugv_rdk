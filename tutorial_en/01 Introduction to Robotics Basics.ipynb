{
 "cells": [
  {
   "cell_type": "markdown",
   "id": "a622ef4e-b3a7-4e4e-a0e1-4bee96ce307a",
   "metadata": {},
   "source": [
    "# Introduction to Robotics Basics"
   ]
  },
  {
   "cell_type": "markdown",
   "id": "6a18a4ba-1361-4e07-9f6d-2d078bec04bc",
   "metadata": {},
   "source": [
    "## Control Architecture\n",
    "Our robot employs a master-slave architecture (akin to a brain-like structure), with the master unit potentially being a Raspberry Pi, Jetson Nano, Jetson Orin Nano, or other similar single-board computers equipped with a 40PIN interface. The slave unit utilizes an ESP32 to control the robot's peripherals, read sensor data, and manage closed-loop speed control for the motors using PID controllers. The master and slave units communicate through serial connections using JSON-formatted instructions."
   ]
  },
  {
   "cell_type": "markdown",
   "id": "aa902280-f29f-4b98-8c82-436c3c9c7648",
   "metadata": {},
   "source": [
    "### Leveraging the Advantages of a \"Big-Little\" Architecture\n",
    "\n",
    "1. The utilization of Jetson or other single-board computers as the primary processing unit for handling complex tasks, such as processing visual information, in conjunction with an ESP32 as a secondary controller dedicated to managing peripherals and sensors, exemplifies a modular design that enhances system flexibility and scalability. \n",
    "2. The single-board computers are tasked with higher-level processing and decision-making, while the ESP32 handles real-time, low-level tasks such as motor control. This division of labor allows each component to focus on its strengths, optimizing the system's overall performance.\n",
    "3. This architecture efficiently allocates processing power and I/O resources, reducing the strain on a singular system and enhancing efficiency. \n",
    "4. Communication between components is facilitated through serial connections using JSON, which not only streamlines data transfer but also improves readability, easing the debugging and expansion processes.\n",
    "5. For hobbyists and makers with limited budgets, this \"big-little\" architecture strategy offers a way to maintain high performance while minimizing costs and complexity of the system.。"
   ]
  },
  {
   "cell_type": "markdown",
   "id": "c4b9a788-57dc-4804-8a5a-62cccb07cdf1",
   "metadata": {},
   "source": [
    "# Basic Tutorial on Interactive Development Using JupyterLab"
   ]
  },
  {
   "cell_type": "markdown",
   "id": "f01dc4e6-926f-47e2-90d2-ee9f863d7f3d",
   "metadata": {},
   "source": [
    "## What is JupyterLab?\n",
    "- Interactive Development Environment: JupyterLab is an open-source interactive development environment that offers an easy-to-use interface for coding, running experiments, and viewing data.\n",
    "- Ideal for Data Science and Machine Learning: Initially designed for data science and machine learning, its flexibility and ease of use also make it an excellent choice for robotic programming and experimentation.\n",
    "- Based on Web Technologies: JupyterLab integrates seamlessly with web technologies, providing a robust platform for various computing tasks."
   ]
  },
  {
   "cell_type": "markdown",
   "id": "25fb05b0-d273-4102-b857-c79d5c5b5533",
   "metadata": {},
   "source": [
    "## Benefits of Developing with JupyterLab\n",
    "1. The User-Friendly Programming Environment of JupyterLab: \n",
    "JupyterLab's clean and intuitive user interface makes programming and experimentation more accessible to beginners. Its interactive notebooks allow for easy code writing and testing, ideal for novices to explore and learn gradually.\n",
    "2. Immediate Feedback and Visualization of Results: \n",
    "JupyterLab provides instant feedback, enabling users to see the effects of code changes immediately, which is invaluable for debugging and learning. Its convenient data visualization capabilities aid in understanding the behaviors and performance of robots.\n",
    "3. Support for Multiple Programming Languages: \n",
    "JupyterLab accommodates various programming languages, including Python, offering flexibility for users of all skill levels.\n",
    "4. Customization and Extension Capabilities: \n",
    "JupyterLab's high customizability and extensibility allow users to add new features or tools as needed.\n",
    "5. Cross-Platform Accessibility\n",
    "As a web-based tool, JupyterLab boasts excellent cross-platform capabilities, running on different operating systems and accessible through a browser."
   ]
  },
  {
   "cell_type": "markdown",
   "id": "8b9c6df1-b8da-4301-b667-fffd76fef081",
   "metadata": {},
   "source": [
    "## Basic Usage of JupyterLab\n",
    "- Learning Resources: Refer to JupyterLab's official documentation for a comprehensive learning guide: https://jupyterlab.readthedocs.io/en/latest/getting_started/overview.html\n",
    "- Given that our interactive tutorials are conducted using Jupyter Notebook (.ipynb) files, we will introduce some basic usage techniques here."
   ]
  },
  {
   "cell_type": "markdown",
   "id": "1e1aeb1f-6f48-4421-9adc-b5d31ea9fa1e",
   "metadata": {},
   "source": [
    "### What is a Jupyter Notebook (.ipynb) Document\n",
    "- Jupyter Notebooks (.ipynb) are documents that combine executable code with narrative text (Markdown), equations (LaTeX), images, interactive visualizations, and other rich output elements."
   ]
  },
  {
   "cell_type": "markdown",
   "id": "d7759515-7c1f-4e8d-a231-7a378a46d6a1",
   "metadata": {},
   "source": [
    "### Switching Document Themes\n",
    "- Our default theme is the dark-colored Jupyter Dark.\n",
    "- You can switch to a light theme based on your preference by clicking on Settings - Theme - JupyterLab Light at the top of the interface."
   ]
  },
  {
   "cell_type": "markdown",
   "id": "97f4b992-c9bf-4651-adc6-856e1d34067c",
   "metadata": {},
   "source": [
    "### COMMAND / EDIT MODE\n",
    "JupyterLab operates in two modes: COMMAND mode and EDIT mode.\n",
    "- COMMAND Mode: \n",
    "In COMMAND mode, you can quickly perform notebook-wide operations, such as adding or deleting cells, moving cells, changing cell types, etc. In this mode, the cell border is gray. You can enter COMMAND mode by pressing the Esc key.\n",
    "- EDIT Mode: \n",
    "EDIT mode allows you to enter or modify code or text within a cell. In this mode, the cell border is blue. You can enter EDIT mode by clicking inside a selected cell or pressing the Enter key."
   ]
  },
  {
   "cell_type": "markdown",
   "id": "515e941f-e725-4870-9f50-1a9508de8b2a",
   "metadata": {},
   "source": [
    "### Cell Operations\n",
    "In JupyterLab, you can perform the following operations:\n",
    "- In COMMAND mode, use the up and down arrow keys to select cells.\n",
    "- Add Cell Below: You can add a new cell below the current cell by clicking the \"+\" button on the toolbar or using the shortcut key B (in COMMAND mode).\n",
    "- Add Cell Above: You can add a new cell above the current cell by clicking the \"+\" button on the toolbar or using the shortcut key A (in COMMAND mode).\n",
    "- Delete Cell: Press D,D (press the D key twice in quick succession in COMMAND mode) to delete the currently selected cell.\n",
    "- Copy Cell: Use the shortcut key C in COMMAND mode.\n",
    "- Paste Cell: Use the shortcut key V in COMMAND mode.\n",
    "- Cut Cell: Use the shortcut key X in COMMAND mode.\n",
    "- Undo: Use the shortcut key Z in COMMAND mode.\n",
    "- Redo: Use the shortcut key Shift + Z in COMMAND mode.\n",
    "- Convert the Current Cell to Code Block: Use the shortcut key Y in COMMAND mode.\n",
    "- Convert the Current Cell to Markdown: Use the shortcut key M in COMMAND mode.\n",
    "- Switch Cell Type: You can set a cell as a code cell, Markdown cell, or raw cell. This can be done using the toolbar dropdown menu or the shortcut keys Y (for code cell) and M (for Markdown cell) in COMMAND mode.\n",
    "- Run Cell: You can execute the current cell and automatically move to the next cell by clicking the \"▶︎\" button on the toolbar or using the shortcut key Shift + Enter."
   ]
  },
  {
   "cell_type": "markdown",
   "id": "2804a1e1-b2c9-4786-ac06-8d2fbac118cc",
   "metadata": {},
   "source": [
    "### Saving and Exporting\n",
    "- Save Notebook: You can save your notebook by clicking the \"💾\" button on the toolbar or using the shortcut key S (in COMMAND mode).\n",
    "- Export Notebook: JupyterLab allows you to export notebooks in various formats, including HTML, PDF, Markdown, etc. This can be done through the File > Export Notebook As... menu option.\n",
    "\n",
    "### What is a JupyterLab Kernel?\n",
    "- A JupyterLab Kernel acts as a computational engine that executes the code written by users in their notebooks.\n",
    "- Each notebook is linked to a Kernel, which can be programmed in various languages such as Python, R, or Julia. Kernels also have access to resources like memory and CPU.\n",
    "\n",
    "### Setting the Kernel for a Robotic Virtual Environment\n",
    "- When opening subsequent .ipynb tutorial documents, you'll need to manually select the Kernel in the notebook to ensure the robot-related code blocks execute correctly.\n",
    "- To do this, click on the Kernel option next to the \"⭕\" at the top right corner of the notebook tab and choose Python 3 (ipykernel) from the dropdown menu.\n",
    "\n",
    "### Kernel Management\n",
    "- Starting: When you open a Jupyter notebook, the associated Kernel will automatically start, indicated by a small green dot appearing in front of the corresponding note in the file list.\n",
    "- Restarting: If the Kernel crashes or you need to clear the current session's state, you can restart the Kernel via \"Kernel\" -> \"Restart Kernel...\".\n",
    "- Stopping: To stop the Kernel of a running note, go to \"Kernel\" -> \"Shut Down Kernel\" within the note interface. To stop all Kernels, use \"Kernel\" -> \"Shut Down All Kernels\".\n",
    "- Note: If a notebook's Kernel is using the camera and isn't stopped, it will continue to occupy this resource, preventing other notebooks from using it normally. Stopping the notebook's Kernel is necessary for others to function correctly.\n",
    "### Running Code Blocks\n",
    "After selecting the correct Kernel, you can run code blocks within the notebook. In JupyterLab, code blocks are fundamental components of a notebook. Here's how to execute them:\n",
    "- Run a Single Code Block: Select the code block you wish to run and click the \"▶︎\" button on the toolbar or use the Shift + Enter shortcut. This action will execute the current code block and select the next one.\n",
    "- Run All Code Blocks: You can also execute all code blocks in the entire notebook by clicking the Run menu on the toolbar and selecting Run All Cells.\n",
    "- Stop a Code Block: To stop a code block that's running, click the \"■\" button on the toolbar.\n",
    "\n",
    "These basic operations enable efficient use of JupyterLab for various tasks. For more advanced features and detailed usage guidelines, refer to JupyterLab's official documentation.。"
   ]
  },
  {
   "cell_type": "code",
   "execution_count": null,
   "id": "f0d661e2-cad9-43c6-9cf2-f5d2d013894e",
   "metadata": {},
   "outputs": [],
   "source": [
    "print(\"test text in jupyterlab\")"
   ]
  },
  {
   "cell_type": "markdown",
   "id": "92a737d4-f46a-4359-b964-2c366f7b2527",
   "metadata": {},
   "source": [
    "- Run all code blocks: You can also run all code blocks in the entire notebook. To do this, click the Run menu in the toolbar and select Run All Cells."
   ]
  },
  {
   "cell_type": "code",
   "execution_count": null,
   "id": "67d29b5a-5563-4ad8-85d4-a9643d3226ce",
   "metadata": {},
   "outputs": [],
   "source": [
    "for i in range(0, 10):\n",
    "    print(i)"
   ]
  },
  {
   "cell_type": "markdown",
   "id": "3c64f678-06c6-475f-99f0-946d4a80eebf",
   "metadata": {},
   "source": [
    "- Stopping a Code Block's Execution: If you need to stop a code block that's currently running, you can click the \"■\" button on the toolbar.\n",
    "\n",
    "With these basic operational methods, you can effectively use JupyterLab for various tasks. More advanced features and detailed guides can be found in JupyterLab's official documentation."
   ]
  },
  {
   "cell_type": "markdown",
   "id": "75e0cb27-7552-417a-a3ba-5e3c04428260",
   "metadata": {},
   "source": [
    "### Deleting Code Block Outputs:\n",
    "- To delete the output of a single code block, select the block and then click Edit - Clear Cell Output from the menu above.\n",
    "- To delete the outputs of all code blocks, click Edit - Clear Outputs of All Cells from the menu above."
   ]
  },
  {
   "cell_type": "markdown",
   "id": "fee9354c-2618-4d46-b07e-c9aba65d0fb1",
   "metadata": {},
   "source": [
    "### For More Advanced Content:\n",
    "- You can refer to JupyterLab's official documentation for further learning: https://jupyterlab.readthedocs.io/en/latest/getting_started/overview.html"
   ]
  }
 ],
 "metadata": {
  "kernelspec": {
   "display_name": "Python 3 (ipykernel)",
   "language": "python",
   "name": "python3"
  },
  "language_info": {
   "codemirror_mode": {
    "name": "ipython",
    "version": 3
   },
   "file_extension": ".py",
   "mimetype": "text/x-python",
   "name": "python",
   "nbconvert_exporter": "python",
   "pygments_lexer": "ipython3",
   "version": "3.10.12"
  }
 },
 "nbformat": 4,
 "nbformat_minor": 5
}
