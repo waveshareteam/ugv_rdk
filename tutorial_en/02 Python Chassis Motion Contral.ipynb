{
 "cells": [
  {
   "cell_type": "markdown",
   "id": "6da00feb-aead-49c2-8327-eb337132dd58",
   "metadata": {},
   "source": [
    "# Python Chassis Motion Contral\n",
    "\n",
    "In this chapter, we'll craft a Python routine for controlling the motion of a robot's chassis. This approach can be adapted to other programming languages for similar motion control tasks.\n",
    "\n",
    "## Control Mechanism Overview\n",
    "\n",
    "We utilize code blocks within JupyterLab to compose JSON commands. These commands are then dispatched to the microcontroller via the GPIO serial port on a Jetson (the default baud rate for communication with the microcontroller is 115200). Upon receiving these commands, the microcontroller executes the specified actions.\n",
    "\n",
    "Further sections will delve into the variety of commands that can be sent to the microcontroller. Alternatively, you might choose to implement these functionalities in a different programming language or develop a dedicated application for the controlling system.\n",
    "\n",
    "## Design Advantages\n",
    "\n",
    "Adopting a master-slave architecture significantly liberates the resources of the master device. In this setup, the master device (such as a Raspberry Pi or Jetson SBC) acts as the brain, while the ESP32 microcontroller serves as a cerebellum-like entity handling the lower-level motion controls. This division of labor allows the master device to focus on high-level tasks like vision processing and decision-making, while the microcontroller efficiently manages precise movement control and other low-level tasks. Such an arrangement ensures that the microcontroller can maintain accurate wheel rotation speeds through high-frequency PID control, without overburdening the master device with computationally intensive tasks."
   ]
  },
  {
   "cell_type": "markdown",
   "id": "5a780279-2df9-412e-b89e-712709d9d755",
   "metadata": {},
   "source": [
    "## Main Program (app.py)\n",
    "\n",
    "The main program of the product, app.py, automatically executes upon booting due to the configuration set by autorun.sh (which is pre-configured in the product). Running app.py occupies the GPIO serial port and the camera, which might lead to conflicts or errors if other tutorials or programs require these resources. Ensure to disable the auto-start of app.py before proceeding with development or learning.\n",
    "\n",
    "### Terminate the Main Program\n",
    "\n",
    "1. Click the \"+\" icon next to the tab for this page to open a new tab called \"Launcher.\"\n",
    "2. Click on \"Terminal\" under \"Other\" to open a terminal window.\n",
    "3. Type bash into the terminal window and press Enter.\n",
    "4. Now you can use the Bash Shell to control the robot.\n",
    "5. Enter the command: `sudo killall -9 python`.\"."
   ]
  },
  {
   "cell_type": "markdown",
   "id": "5b7c4809-7396-4597-b495-d07c1b7ca4c3",
   "metadata": {},
   "source": [
    "Note:Make sure not to comment out the line containing \"start_jupyter.sh\", as doing so will prevent JupyterLab from launching on startup, disabling your access to interactive tutorials.\n",
    "\n",
    "To exit and save the changes, after editing the content of crontab, press Ctrl + X to exit nano. Since you have made edits to the crontab file, it will ask if you want to save the changes (Save modified buffer?). Enter the letter 'Y' and then press Enter to exit and save the modifications.\n",
    "\n",
    "After restarting the device, the main program will no longer run automatically upon boot-up, allowing you to freely use the tutorials within JupyterLab. If you wish to re-enable the automatic execution of the main program at startup in the future, you can reopen the crontab file using the method described above. Simply remove the '#' symbol in front of the '@' symbol, then exit and save the changes. This will restore the automatic startup functionality of the main program."
   ]
  },
  {
   "cell_type": "markdown",
   "id": "f20f18b9-da3f-4838-9f95-ff2772ecd7d6",
   "metadata": {},
   "source": [
    "After restarting the device again, the main program of the product will still run actively."
   ]
  },
  {
   "cell_type": "markdown",
   "id": "c929d2bf-6294-4d6c-b090-22019decabc4",
   "metadata": {},
   "source": [
    "## Chassis Control Routine\n",
    "\n",
    "In the following routine, it's crucial to use the correct device name and baud rate (default 115200) that matches the microcontroller.\n",
    "\n",
    "Before executing the code block below, ensure the robot is elevated so that the drive wheels are off the ground. Activating the code will cause the robot to move; take precautions to prevent it from falling off the table."
   ]
  },
  {
   "cell_type": "code",
   "execution_count": null,
   "id": "25274323-564f-4843-9b9a-2ff44fa28e06",
   "metadata": {},
   "outputs": [],
   "source": [
    "from base_ctrl import BaseController\n",
    "import time\n",
    "\n",
    "base = BaseController('/dev/ttyTHS0', 115200)\n",
    "\n",
    "# The wheel rotates at a speed of 0.2 meters per second and stops after 2 seconds.\n",
    "base.send_command({\"T\":1,\"L\":0.2,\"R\":0.2})\n",
    "time.sleep(2)\n",
    "base.send_command({\"T\":1,\"L\":0,\"R\":0})"
   ]
  },
  {
   "cell_type": "markdown",
   "id": "e25ee24d-0323-433c-ac41-cb603c02211a",
   "metadata": {},
   "source": [
    "By invoking the code block mentioned above, the Jetson will initially send the command {\"T\":1,\"L\":0.2,\"R\":0.2} (the structure of commands will be discussed in more detail in later chapters). This command starts the wheels turning. After a two-second interval, the Jetson will send another command {\"T\":1,\"L\":0,\"R\":0}, causing the wheels to stop. It's important to note that even if the command to stop the wheels isn't sent, the wheels will still cease turning if no new commands are issued. This is due to a heartbeat function built into the subordinate machine. The purpose of this heartbeat function is to halt the current motion command automatically if the master control hasn't sent any new commands to the subordinate machine for an extended period. This function is designed to prevent continuous motion of the subordinate machine in case the master control encounters a problem that leads to a freeze or crash.\r",
    "\r\n",
    "If you want the robot to continue moving indefinitely, the master control unit needs to cyclically send motion control commands every 2 to 4 seconds。"
   ]
  },
  {
   "cell_type": "markdown",
   "id": "971b984a-6f84-42a3-aca2-322cd7d59dcb",
   "metadata": {},
   "source": [
    "# Chassis Type Selection\n",
    "\n",
    "You may find that the direction or speed of the robot's wheels does not meet your expectations after inputting the motion control commands above. This is because, before controlling the chassis, you need to set the chassis type. Each time the main program app.py is executed, the chassis type is automatically configured, and the configuration parameters are stored in config.yaml. Only then will the chassis be controlled by the correct parameters (by default, the chassis needs to be configured by the host computer every time it is powered up again). You can send the following commands to the chassis to set its type:\n",
    "\n",
    "Where the value of \"main\" represents the chassis type:\n",
    "- 1: RaspRover (four-wheel drive chassis)\n",
    "- 2: UGV Rover (six-wheel drive chassis)\n",
    "- 3: UGV Beast (tracked chassis)\n",
    "\n",
    "The value of \"module\" represents the module type:\n",
    "- 0: No module installed, or installed with a gimbal module\n",
    "- 1: Mechanical arm module (if the mechanical arm is not installed, it will cause the chassis to fail to ping the joint)\n",
    "- 2: Gimbal module (if the gimbal is not installed, it will cause the chassis to fail to ping the joint)\n",
    "\n",
    "For example, if you are using a UGV Rover product with a gimbal installed, you can set the chassis type by sending the following command to the microcontroller:\n",
    "> {\"T\":900,\"main\":2,\"module\":0} or {\"T\":900,\"main\":2,\"module\":2}\n",
    "> Both of the above commands can be used to configure the UGV Rover product with a gimbal. If you do not need the chassis to provide feedback on the gimbal's angle information (only for user's secondary development, not included in the example routines), it is recommended to use the former.n"
   ]
  },
  {
   "cell_type": "markdown",
   "id": "6cf6819d-5608-42a9-b05b-fd2721f36946",
   "metadata": {},
   "source": [
    "You can change the JSON parameters in the code block below according to the type of product you have on hand to configure the chassis type."
   ]
  },
  {
   "cell_type": "code",
   "execution_count": null,
   "id": "8c268dc2-e7d4-4a57-aa3a-6b9d08864bf0",
   "metadata": {},
   "outputs": [],
   "source": [
    "base.send_command({\"T\":900,\"main\":2,\"module\":0})"
   ]
  },
  {
   "cell_type": "markdown",
   "id": "70a3fe07-95f2-4a72-9f85-f028f1276717",
   "metadata": {},
   "source": [
    "Then execute the code block below to control the chassis, and the direction and speed of the wheels will be correct."
   ]
  },
  {
   "cell_type": "code",
   "execution_count": null,
   "id": "d7fd8c82-578b-4864-b035-ad867124a3e1",
   "metadata": {},
   "outputs": [],
   "source": [
    "base.send_command({\"T\":1,\"L\":0.2,\"R\":0.2})\n",
    "time.sleep(2)\n",
    "base.send_command({\"T\":1,\"L\":0,\"R\":0})"
   ]
  },
  {
   "cell_type": "markdown",
   "id": "a3caddf9-1d07-47ca-b3e4-a705d4a3398f",
   "metadata": {
    "jp-MarkdownHeadingCollapsed": true
   },
   "source": [
    "## Chassis Steering Principle\n",
    "\n",
    "The earlier routine allows you to make the robot move forward for two seconds before stopping. Further adjustments to the parameters can control the direction of the chassis, based on the differential steering principle. \n",
    "\n",
    "When turning, the inner wheels (on the side towards which the turn is made) travel a shorter distance and thus should rotate slower to maintain stability. The differential gear system achieves this by allowing the drive wheels to rotate at different speeds. Usually, the outer wheels (on the opposite side of the turn) rotate faster than the inner wheels. This variation in speed results in the turning motion of the vehicle, allowing it to steer in the intended direction.\n",
    "\n",
    "You can control the vehicle's steering by assigning different target linear velocities to each wheel, thus achieving maneuverability and easily adjustable turning radii."
   ]
  }
 ],
 "metadata": {
  "kernelspec": {
   "display_name": "Python 3 (ipykernel)",
   "language": "python",
   "name": "python3"
  },
  "language_info": {
   "codemirror_mode": {
    "name": "ipython",
    "version": 3
   },
   "file_extension": ".py",
   "mimetype": "text/x-python",
   "name": "python",
   "nbconvert_exporter": "python",
   "pygments_lexer": "ipython3",
   "version": "3.10.12"
  }
 },
 "nbformat": 4,
 "nbformat_minor": 5
}
