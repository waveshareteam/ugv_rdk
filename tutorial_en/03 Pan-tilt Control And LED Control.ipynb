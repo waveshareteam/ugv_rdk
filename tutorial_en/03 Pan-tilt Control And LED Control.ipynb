{
 "cells": [
  {
   "attachments": {},
   "cell_type": "markdown",
   "id": "49f155c8-ef2c-41a9-bdf8-d854d0e272d8",
   "metadata": {},
   "source": [
    "# Pan-tilt Control And LED Control \n",
    "## Pan-tilt Control\n",
    "### Introduction\n",
    "\n",
    "The product (PT Version only) with pan-tilt has two servos, that is, pan servo and tilt servo, and the rotation range is ±180° (360° in total). The tilt servo controls the horizontal rotation, and the range is -45°~90° (135° in total)\n",
    "\n",
    "For products without a pan-tilt mechanism, users can expand this function by adding a pan-tilt mechanism to the product platform themselves. "
   ]
  },
  {
   "cell_type": "code",
   "execution_count": null,
   "id": "f0ff970f-882b-4e93-a82e-76bf10bd59f0",
   "metadata": {},
   "outputs": [],
   "source": [
    "# Input the library for base control\n",
    "from base_ctrl import BaseController\n",
    "\n",
    "base = BaseController('/dev/ttyTHS0', 115200)"
   ]
  },
  {
   "cell_type": "markdown",
   "id": "95191cb9-4826-44c3-93b8-b21dc5515779",
   "metadata": {},
   "source": [
    "In the code block above, we import and instantiate the library for base control. Next, we control the movement of the pan-tilt by changing the angles of the pan and tilt servos.\n",
    "\n",
    "Modify the values in the following code:\n",
    "- input_x: Angle of the pan servo, within the range of ±180° (total range of 360°).\n",
    "- input_y: Angle of the tilt servo, within the range of -45° to 90° (total range of 135°). \n",
    "- input_speed: Speed of the pan-tilt movement. When the speed value is 0, the movement is at its fastest. \n",
    "- input_acc: Acceleration at the start and end of the pan-tilt movement. Smaller values result in smoother acceleration and deceleration. When the acceleration value is 0, the maximum acceleration is applied.\n",
    "\n",
    "Run the code below to observe the pan-tilt move 45° to the right and upward before stopping."
   ]
  },
  {
   "cell_type": "code",
   "execution_count": null,
   "id": "7830105c-1aca-4d0e-b274-93049adcc7d8",
   "metadata": {},
   "outputs": [],
   "source": [
    "input_x = 45\n",
    "input_y = 45\n",
    "input_speed = 0\n",
    "input_acc = 0\n",
    "\n",
    "base.gimbal_ctrl(input_x, input_y, input_speed, input_acc)"
   ]
  },
  {
   "cell_type": "markdown",
   "id": "950ca416-2e03-4078-a744-447a6667a2f2",
   "metadata": {},
   "source": [
    "In addition to controlling the pan-tilt movement by changing the angles of the two servos, you can also directly control its continuous movement.\n",
    "\n",
    "Modify the values in the code below:\n",
    "\n",
    "- input_x: the rotation mode of the pan servo. When the value is -1, it represents continuous rotation to the left (clockwise); when the value is 1, it represents continuous rotation to the right (counterclockwise); when the value is 0, it indicates stopping the rotation.\n",
    "- input_y: the rotation mode of the tilt servo. When the value is -1, it represents continuous downward rotation (tilting down); when the value is 1, it represents continuous upward rotation (tilting up); when the value is 0, it indicates stopping the rotation.\n",
    "- input_speed: speed of the pan-tilt movement. \n",
    "\n",
    "If both input_x and input_y are set to 2, the pan-tilt will automatically return to its middle position.\n",
    "\n",
    "Run the code below, and the pan-tilt will move to the left until it reaches 180° and then stop."
   ]
  },
  {
   "cell_type": "code",
   "execution_count": null,
   "id": "0f2aa837-0189-48ce-a34b-ae672d20bd69",
   "metadata": {},
   "outputs": [],
   "source": [
    "input_x = -1\n",
    "input_y = 0\n",
    "input_speed = 0\n",
    "\n",
    "base.gimbal_base_ctrl(input_x, input_y, input_speed)"
   ]
  },
  {
   "cell_type": "markdown",
   "id": "f158091c-5d47-4b0f-acae-9c6cdbe37da3",
   "metadata": {},
   "source": [
    "Run the following code, the pan-tilt will move upward until it reaches 90° and then stop. "
   ]
  },
  {
   "cell_type": "code",
   "execution_count": null,
   "id": "d23c20a5-25eb-45f9-bc39-e8181e535666",
   "metadata": {},
   "outputs": [],
   "source": [
    "input_x = 0\n",
    "input_y = 1\n",
    "input_speed = 0\n",
    "\n",
    "base.gimbal_base_ctrl(input_x, input_y, input_speed)"
   ]
  },
  {
   "cell_type": "markdown",
   "id": "c33fefda-74cf-431c-a5cd-186b5146c260",
   "metadata": {},
   "source": [
    "To make the pan-tilt return to its middle position, run the following code:ter)"
   ]
  },
  {
   "cell_type": "code",
   "execution_count": null,
   "id": "266b7adc-7fc5-4254-876f-01e4b3e98e14",
   "metadata": {},
   "outputs": [],
   "source": [
    "input_x = 2\n",
    "input_y = 2\n",
    "input_speed = 0\n",
    "\n",
    "base.gimbal_base_ctrl(input_x, input_y, input_speed)"
   ]
  },
  {
   "cell_type": "markdown",
   "id": "ca4f7886-ab01-47e6-b040-f7d6df45ffe4",
   "metadata": {},
   "source": [
    "## LED Control\n",
    "### Introduction\n",
    "The WAVE ROVER and UGV series products feature a drive board integrated with two 12V switches (the actual maximum voltage varies with the battery voltage). These switches are controlled by ESP32's IO4 and IO5 pins via MOS tubes. Each switch has two ports, totaling 4x 12V switch control ports. By default, IO4 controls the chassis LED (WAVE ROVER does not have a chassis LED), and IO5 controls the LED. You can control the switching of these two switches and adjust the voltage level by sending the corresponding commands to the slave computer. However, due to the inherent delay in MOSFET control, there may not be a linear relationship between the PWM output from the ESP32's IO and the actual voltage output.\n",
    "\n",
    "For products without LEDs, you can expand the 12.6V withstand LED on these two 12V switches (in general, 12V withstand is also acceptable for safety and battery protection, the product's UPS will not charge the battery above 12V). You can also expand other peripherals on the remaining switch control interfaces, such as a 12V withstand water gun gearbox, which can be directly connected to the interface controlled by IO5 to achieve automatic aiming and shooting functionality.\n",
    "\n",
    "To run the code within the code block, you can select the desired code block and then press Ctrl+Enter to run the program. If you are using JupyterLab on a mobile device or tablet, you can press the play button above the code block to run it."
   ]
  },
  {
   "cell_type": "markdown",
   "id": "d53371f4-1f31-44b8-88fe-293af7d690df",
   "metadata": {},
   "source": [
    "In the code block above, we imported and instantiated the library for controlling the chassis. Next, we will control the switch of interface IO4. The variable IO4_PWM represents the PWM output of ESP32's IO4 pin, ranging from 0 to 255. When this variable is 0, the switch controlled by IO4 is turned off; when this variable is 255, the voltage output of the switch controlled by IO4 is close to the UPS BAT voltage (the current voltage of the three lithium batteries connected in series inside the UPS).\n",
    "\n",
    "Run the following code block to turn on the switch controlled by IO4 (turn on the chassis LED). Note: RaspRover does not have a chassis LED, so running the following code block will not change anything. You need to run the next code block to turn on the LED, which is located on the camera pan-tilt. If the product does not come with a camera pan-tilt, there are no LED lights (Only available on the PT version)."
   ]
  },
  {
   "cell_type": "code",
   "execution_count": null,
   "id": "f3f2e713-806f-4697-9fe0-b5b999d15dad",
   "metadata": {},
   "outputs": [],
   "source": [
    "IO4_PWM = 255\n",
    "IO5_PWM = 0\n",
    "\n",
    "base.lights_ctrl(IO4_PWM, IO5_PWM)"
   ]
  },
  {
   "cell_type": "markdown",
   "id": "53e9e53d-eef3-46dc-9ad9-dafa8b5c75b0",
   "metadata": {},
   "source": [
    "To turn on the switch controlled by interface IO5 (turn on the pan-tilt LED), run the following code block:\n",
    "Note: If the product does not come with a camera pan-tilt, there are no LED lights."
   ]
  },
  {
   "cell_type": "code",
   "execution_count": null,
   "id": "383fa52b-a885-49b0-849e-c705b5008c9b",
   "metadata": {},
   "outputs": [],
   "source": [
    "IO4_PWM = 255\n",
    "IO5_PWM = 255\n",
    "\n",
    "base.lights_ctrl(IO4_PWM, IO5_PWM)"
   ]
  },
  {
   "cell_type": "markdown",
   "id": "fedc79fb-8b62-461b-a20d-099cc6a50a69",
   "metadata": {},
   "source": [
    "If your product comes with LED, they should all be tilted up by now. You can run the following code block to decrease the brightness of the LED lights."
   ]
  },
  {
   "cell_type": "code",
   "execution_count": null,
   "id": "02816322-8fe9-43ee-a9ff-43d73d95b097",
   "metadata": {},
   "outputs": [],
   "source": [
    "IO4_PWM = 64\n",
    "IO5_PWM = 64\n",
    "\n",
    "base.lights_ctrl(IO4_PWM, IO5_PWM)"
   ]
  },
  {
   "cell_type": "markdown",
   "id": "dc21bfa5-b8e9-4147-b26f-f2ae82f767f9",
   "metadata": {},
   "source": [
    "Finally, run the following code block to turn off the LEDs."
   ]
  },
  {
   "cell_type": "code",
   "execution_count": null,
   "id": "50be9795-b358-4dcd-a9cc-12df8ee0f03b",
   "metadata": {},
   "outputs": [],
   "source": [
    "base.lights_ctrl(0, 0)"
   ]
  },
  {
   "cell_type": "markdown",
   "id": "d3eb783b-d980-40ee-b545-c3a3faa37148",
   "metadata": {},
   "source": [
    "Run a code block here that integrates the pan-tilt functionality:"
   ]
  },
  {
   "cell_type": "code",
   "execution_count": null,
   "id": "732f44a7-fd72-44a3-91e0-ac2f0ca21da2",
   "metadata": {},
   "outputs": [],
   "source": [
    "import time\n",
    "base.gimbal_ctrl(0, 0, 0, 0)\n",
    "base.lights_ctrl(255, 255)\n",
    "time.sleep(1)\n",
    "base.gimbal_ctrl(45, 0, 0, 0)\n",
    "base.lights_ctrl(0, 0)\n",
    "time.sleep(1)\n",
    "base.gimbal_ctrl(-45, 0, 0, 0)\n",
    "base.lights_ctrl(255, 255)\n",
    "time.sleep(1)\n",
    "base.gimbal_ctrl(0, 90, 0, 0)\n",
    "base.lights_ctrl(0, 0)\n",
    "time.sleep(1)\n",
    "base.gimbal_ctrl(0, 0, 0, 0)"
   ]
  }
 ],
 "metadata": {
  "kernelspec": {
   "display_name": "Python 3 (ipykernel)",
   "language": "python",
   "name": "python3"
  },
  "language_info": {
   "codemirror_mode": {
    "name": "ipython",
    "version": 3
   },
   "file_extension": ".py",
   "mimetype": "text/x-python",
   "name": "python",
   "nbconvert_exporter": "python",
   "pygments_lexer": "ipython3",
   "version": "3.10.12"
  }
 },
 "nbformat": 4,
 "nbformat_minor": 5
}
