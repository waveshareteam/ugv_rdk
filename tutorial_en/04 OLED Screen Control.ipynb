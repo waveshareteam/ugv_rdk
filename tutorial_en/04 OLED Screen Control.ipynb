{
 "cells": [
  {
   "cell_type": "markdown",
   "id": "e9efed9b-6a13-4bda-a06d-3d420e1b0af2",
   "metadata": {},
   "source": [
    "# OLED Screen Control\n",
    "\n",
    "This tutorial demonstrates how to control an OLED display connected to an ESP32 module using JSON commands. OLED displays are widely used for showing various types of information, such as text and images.\n",
    "\n",
    "## Basics of OLED Screens\n",
    "\n",
    "OLED displays communicate with the ESP32 module via the I2C (Inter-Integrated Circuit) interface. These displays are capable of showing custom text content and support multi-line display.\n",
    "\n",
    "The product comes with an OLED display that communicates with the ESP32 module through the I2C interface. Upon powering up, the display automatically shows some basic information about the device. The content displayed on the screen can be altered by sending JSON commands from the host device.\n",
    "\n",
    "## OLED Screen Control JSON Commands\n",
    "- {\"T\":3,\"lineNum\":0,\"Text\":\"putYourTextHere\"}\n",
    "    - Controls the display to show custom content.\n",
    "    - `lineNum` refers to the line number, and a single JSON command can change the content of one line. For the commonly used 0.91-inch OLED displays, the value of lineNum can be 0, 1, 2, or 3, allowing for four lines in total.\n",
    "     - `Text` is the content you wish to display on that line. If the content exceeds the line length, it will automatically wrap to the next line, potentially overwriting the last line's content.\n",
    "> lineNum refers to the line number. A single JSON command can modify the content of one line. When the subordinate machine receives a new command, the default OLED display screen at startup will disappear, replaced by the content you've added. For most products that use a 0.91-inch OLED display, the value of lineNum can be 0, 1, 2, or 3, allowing for a total of four lines. Text is the textual content you wish to display on that line. If the content for a line is too long, it will automatically wrap to the next line, potentially overwriting the content on the last line."
   ]
  },
  {
   "cell_type": "code",
   "execution_count": null,
   "id": "59e1d026-50c8-4d3e-bf8d-ffe6bd82b609",
   "metadata": {},
   "outputs": [],
   "source": [
    "from base_ctrl import BaseController\n",
    "\n",
    "base = BaseController('/dev/ttyTHS0', 115200)\n",
    "\n",
    "# Modifying the Display Content on the OLED Screen\n",
    "base.send_command({\"T\":3,\"lineNum\":0,\"Text\":\"this is line0\"})\n",
    "base.send_command({\"T\":3,\"lineNum\":1,\"Text\":\"this is line1\"})\n",
    "base.send_command({\"T\":3,\"lineNum\":2,\"Text\":\"this is line2\"})\n",
    "base.send_command({\"T\":3,\"lineNum\":3,\"Text\":\"this is line3\"})"
   ]
  },
  {
   "cell_type": "markdown",
   "id": "a7e6e163-02c3-4696-9a97-78d704ebdb3a",
   "metadata": {},
   "source": [
    "Running the provided code block will display four lines of text on the OLED:\n",
    "\n",
    "this is line0\n",
    "\n",
    "this is line1\n",
    "\n",
    "this is line2\n",
    "\n",
    "this is line3"
   ]
  },
  {
   "cell_type": "markdown",
   "id": "4d7ffde1-8938-4db8-9990-dc2538db5da0",
   "metadata": {},
   "source": [
    "## Displaying Dynamic Information on OLED\n",
    "\n",
    "The tutorial above outlined a method for displaying simple text on the OLED screen. We will now proceed with a slightly more complex example. Running the following code block will display the current time on the OLED screen. Note that the time displayed might not be accurate due to potential discrepancies with the Jetson's clock. This example serves to demonstrate how to update the screen content in the main program, where we employ this method to display real-time information such as the device's IP address and operational status on the OLED screen."
   ]
  },
  {
   "cell_type": "code",
   "execution_count": null,
   "id": "423ebe68-71fd-4b9e-9ec0-5bc3e221dc82",
   "metadata": {},
   "outputs": [],
   "source": [
    "# Import the datetime class from the datetime module to fetch and manipulate the current date and time.\n",
    "from datetime import datetime\n",
    "# Import the time module, primarily used for delay processing within the program.\n",
    "import time\n",
    "\n",
    "# Create an infinite loop using while True to allow the program to run continuously.\n",
    "while True:\n",
    "    # Use datetime.now().strftime(\"%H:%M:%S\") to obtain the current time and format it as \"hour:minute:second\".\n",
    "    current_time = datetime.now().strftime(\"%H:%M:%S\")\n",
    "    # Utilize the base.send_command method to send a command that includes the current time.\n",
    "    base.send_command({\"T\":3,\"lineNum\":0,\"Text\":current_time})\n",
    "    # Use time.sleep(1) to pause the program for 1 second, ensuring that the time is updated and a command is sent every second.\n",
    "    time.sleep(1)"
   ]
  },
  {
   "cell_type": "markdown",
   "id": "4564596d-e326-4ee3-a972-75202c06ac28",
   "metadata": {},
   "source": [
    "Running the last code block, you'll observe the first line of the OLED screen updating to show the current time, refreshing every second. This function runs in an infinite loop, which can be terminated by clicking the stop button(■) above."
   ]
  }
 ],
 "metadata": {
  "kernelspec": {
   "display_name": "Python 3 (ipykernel)",
   "language": "python",
   "name": "python3"
  },
  "language_info": {
   "codemirror_mode": {
    "name": "ipython",
    "version": 3
   },
   "file_extension": ".py",
   "mimetype": "text/x-python",
   "name": "python",
   "nbconvert_exporter": "python",
   "pygments_lexer": "ipython3",
   "version": "3.10.12"
  }
 },
 "nbformat": 4,
 "nbformat_minor": 5
}
