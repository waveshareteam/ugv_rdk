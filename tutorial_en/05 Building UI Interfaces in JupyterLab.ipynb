{
 "cells": [
  {
   "cell_type": "markdown",
   "id": "16220d38-0324-4e67-a971-80fe09ebb239",
   "metadata": {},
   "source": [
    "# Building UI Interfaces in JupyterLab\n",
    "\n",
    "In JupyterLab, constructing UI interfaces is commonly achieved using the ipywidgets library, offering a simple yet powerful method to create interactive user interfaces. Here are the detailed steps:"
   ]
  },
  {
   "cell_type": "markdown",
   "id": "defcdf0f-70f5-4ada-b873-eb35e2c33666",
   "metadata": {},
   "source": [
    "## Importing Required Libraries\n",
    "\n",
    "The ipywidgets library is pre-installed in our product. If you encounter a \"library not found\" error when executing code blocks, you can install the necessary libraries for the UI interface by running pip install ipywidgets.\n",
    "\n",
    "Select the following code block and press Ctrl + Enter to execute the code."
   ]
  },
  {
   "cell_type": "code",
   "execution_count": null,
   "id": "8521d4bf-4dc7-4fd8-ae36-79897d6f175e",
   "metadata": {},
   "outputs": [],
   "source": [
    "import ipywidgets as widgets\n",
    "from IPython.display import display"
   ]
  },
  {
   "cell_type": "markdown",
   "id": "7cecbea2-fe5a-49d4-b212-89abf1a132a6",
   "metadata": {},
   "source": [
    "## Creating UI Components\n",
    "\n",
    "We can use various components from the ipywidgets library to build our UI interface, such as text boxes, buttons, output boxes, etc. For example:"
   ]
  },
  {
   "cell_type": "code",
   "execution_count": null,
   "id": "fbdd0e24-4f3d-4429-b109-b5b9b85218be",
   "metadata": {},
   "outputs": [],
   "source": [
    "# Creating a text box\n",
    "text = widgets.Text(description='Input Name：')\n",
    "\n",
    "# Creating a button\n",
    "button = widgets.Button(description=\"Say Hi\")\n",
    "\n",
    "# Creating an output box\n",
    "output = widgets.Output()"
   ]
  },
  {
   "cell_type": "markdown",
   "id": "b0ee24a3-2c5e-410c-b088-c5dffbcac1f8",
   "metadata": {},
   "source": [
    "## Defining Event Handling Functions\n",
    "\n",
    "We need to define a function to handle user interaction events. In this example, we'll define a function to handle button click events and display a greeting in the output box."
   ]
  },
  {
   "cell_type": "code",
   "execution_count": null,
   "id": "717fd9e4-d91d-425f-b685-20aa56ebf2d6",
   "metadata": {},
   "outputs": [],
   "source": [
    "# Define a function `greet_user` that takes one parameter, `sender`, where `sender` represents the object that triggered the event, such as a button.\n",
    "def greet_user(sender):\n",
    "    # Use the `with` statement and the `output` object to capture the output of the `print` function, so it displays in the expected output area.\n",
    "    # `output` is a pre-defined output object.\n",
    "    with output:\n",
    "        # Use the `print` function to output a greeting message, where the `format` method is used to insert the current value of the `text` widget into the string.\n",
    "        # \"{}\" serves as a placeholder that the `format` function will replace with the value of `text.value`.\n",
    "        print(\"Hi，{}\".format(text.value))\n",
    "\n",
    "# Use the `on_click` method to link the button's click event with the `greet_user` function.\n",
    "# When the user clicks this button, the `greet_user` function will be called.\n",
    "button.on_click(greet_user)"
   ]
  },
  {
   "cell_type": "markdown",
   "id": "fce8da24-0920-4c98-b72f-6d54bc820de0",
   "metadata": {},
   "source": [
    "## Displaying the UI\n",
    "\n",
    "Finally, we place all UI components in a layout and display them using the display function."
   ]
  },
  {
   "cell_type": "code",
   "execution_count": null,
   "id": "9f760c9a-8154-4095-8c46-5b651302eefc",
   "metadata": {},
   "outputs": [],
   "source": [
    "# Place all components in a vertical layout\n",
    "ui = widgets.VBox([text, button, output])\n",
    "\n",
    "# Display the UI\n",
    "display(ui)"
   ]
  },
  {
   "cell_type": "markdown",
   "id": "550c4364-b075-48fa-a6c3-abbaf2ec30cc",
   "metadata": {},
   "source": [
    "By following these steps, we can build a simple UI interface in JupyterLab. Users can enter content in the text box, and upon clicking the button, the program will display a corresponding greeting in the output box based on the input content."
   ]
  }
 ],
 "metadata": {
  "kernelspec": {
   "display_name": "Python 3 (ipykernel)",
   "language": "python",
   "name": "python3"
  },
  "language_info": {
   "codemirror_mode": {
    "name": "ipython",
    "version": 3
   },
   "file_extension": ".py",
   "mimetype": "text/x-python",
   "name": "python",
   "nbconvert_exporter": "python",
   "pygments_lexer": "ipython3",
   "version": "3.10.12"
  }
 },
 "nbformat": 4,
 "nbformat_minor": 5
}
