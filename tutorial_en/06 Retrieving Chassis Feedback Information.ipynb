{
 "cells": [
  {
   "cell_type": "markdown",
   "id": "1714619b-a3e9-4dd7-a1a9-b49b14c9ca6c",
   "metadata": {},
   "source": [
    "# Retrieving Chassis Feedback Information\n",
    "\n",
    "Upon startup, the lower-level systems of the product continuously send various types of feedback information to the upper-level systems. This feedback can be utilized to ascertain the current operational status of the product.\n",
    "\n",
    "Typically, you would continuously monitor the feedback information from the lower-level systems. However, in this example, we will retrieve a single piece of JSON feedback information from the lower-level systems (you can continuously receive feedback information by commenting out or deleting the break line).\n",
    "\n",
    "Select the code block below and run it using Ctrl + Enter. The loop will exit and display the feedback information after receiving the first complete JSON message with a \"T\" value of 1001. The feedback information includes the current wheel speed, IMU data, gimbal angle (if installed), arm angle (if installed), power voltage, and other data.\r\n"
   ]
  },
  {
   "cell_type": "code",
   "execution_count": null,
   "id": "7a4ff19a-2e1a-44e4-8c1d-32d455b8ba5b",
   "metadata": {},
   "outputs": [],
   "source": [
    "from base_ctrl import BaseController\n",
    "import json\n",
    "\n",
    "base = BaseController('/dev/ttyTHS0', 115200)\n",
    "\n",
    "# Implement an infinite loop to continuously monitor serial port data.\n",
    "while True:\n",
    "    try:\n",
    "        # Read a line of data from the serial port, decode it into a 'utf-8' formatted string, and attempt to convert it into a JSON object.\n",
    "        data_recv_buffer = json.loads(base.rl.readline().decode('utf-8'))\n",
    "        # Check if the parsed data contains the key 'T'.\n",
    "        if 'T' in data_recv_buffer:\n",
    "            # If the value of 'T' is 1001, print the received data and break out of the loop.\n",
    "            if data_recv_buffer['T'] == 1001:\n",
    "                print(data_recv_buffer)\n",
    "                break\n",
    "    # If an exception occurs while reading or processing the data, ignore the exception and continue to listen for the next line of data.\n",
    "    except:\n",
    "        pass"
   ]
  },
  {
   "cell_type": "markdown",
   "id": "a5062560-f685-447d-8534-c26ba287ef1c",
   "metadata": {},
   "source": [
    "## Non-Blocking Method for Receiving JSON Information via Serial Port\n",
    "\n",
    "The following code is intended for understanding the underlying principles of reading JSON information from a serial port and should not be executed."
   ]
  },
  {
   "cell_type": "code",
   "execution_count": null,
   "id": "99b19e65-6518-4184-a716-2664b7e9a0d2",
   "metadata": {},
   "outputs": [],
   "source": [
    "class ReadLine:\n",
    "    # Construct a constructor to initialize an instance of the ReadLine class.\n",
    "    # s: The serial port object passed in for communication with the serial port.\n",
    "    def __init__(self, s):\n",
    "        self.buf = bytearray()  # Initialize a byte array to store data that has been read from the serial port but not yet processed.\n",
    "        self.s = s  # Store the passed-in serial port object for subsequent use in reading serial port data.\n",
    "\n",
    "\tdef readline(self):\n",
    "\t\ti = self.buf.find(b\"\\n\") # Check if there is a newline character in the buffer.\n",
    "\t\tif i >= 0:\n",
    "\t\t\tr = self.buf[:i+1] # If there is a newline character, extract the data before the newline character.\n",
    "\t\t\tself.buf = self.buf[i+1:] # Update the buffer by removing the data that has been processed.\n",
    "\t\t\treturn r\n",
    "\t\twhile True:\n",
    "\t\t\ti = max(1, min(512, self.s.in_waiting)) # Retrieve the number of bytes available for reading, up to a maximum of 512 bytes.\n",
    "\t\t\tdata = self.s.read(i) # Read data from the serial port.\n",
    "\t\t\ti = data.find(b\"\\n\") # Search for a newline character.\n",
    "\t\t\tif i >= 0:\n",
    "\t\t\t\tr = self.buf + data[:i+1] # If a newline character is found, merge the data that has been read with the data in the buffer.\n",
    "\t\t\t\tself.buf[0:] = data[i+1:] # Update the buffer by removing the processed data.\n",
    "\t\t\t\treturn r\n",
    "\t\t\telse:\n",
    "\t\t\t\tself.buf.extend(data) # If a newline character is not found, add the data to the buffer."
   ]
  },
  {
   "cell_type": "markdown",
   "id": "a3680001-437d-4aff-be19-0a7874b71af4",
   "metadata": {},
   "source": [
    "- This method is designed for reading data from a serial port and returning a complete line of JSON data, delimited by a newline character (\\n).\n",
    "- If there's already a complete line of data in the buffer, it returns that line directly.\n",
    "- If the buffer does not contain a complete line, the method uses the in_waiting function to check the number of bytes available for reading in the serial port's buffer, reading up to 512 bytes at a time.\n",
    "- The data read from the serial port is then merged with the data in the buffer.\n",
    "- The method checks the newly read data for a newline character. If found, it extracts the complete line of data and updates the buffer.\n",
    "- If no newline character is found, the new data is added to the buffer, and the method continues reading until a newline character is found."
   ]
  },
  {
   "cell_type": "markdown",
   "id": "c54e46a1-4b90-4404-8756-fae030fc9355",
   "metadata": {},
   "source": [
    "### Function Characteristics\n",
    "\n",
    "- Non-blocking: This function employs a non-blocking reading approach, meaning it does not halt the program's execution even if there's no data to read from the serial port. It waits until data is available.\n",
    "- Efficient: By using a small buffer and limiting the read amount to a maximum of 512 bytes at a time, the function reduces memory consumption and promptly processes data to prevent buffer overflow.\n",
    "- Flexible: The function can flexibly read data of any length and automatically deals with data split by newline characters. This makes it particularly suitable for reading structured data like JSON.\n",
    "- Reliable: The function is designed to account for various scenarios, such as insufficient buffer data or absence of newline characters in the read data, ensuring the accuracy and stability of the read operations.\n",
    "- Ideal for Real-time Use: This function is especially well-suited for real-time reading of JSON data from a serial port, especially in scenarios where non-blocking reads are required."
   ]
  }
 ],
 "metadata": {
  "kernelspec": {
   "display_name": "Python 3 (ipykernel)",
   "language": "python",
   "name": "python3"
  },
  "language_info": {
   "codemirror_mode": {
    "name": "ipython",
    "version": 3
   },
   "file_extension": ".py",
   "mimetype": "text/x-python",
   "name": "python",
   "nbconvert_exporter": "python",
   "pygments_lexer": "ipython3",
   "version": "3.10.12"
  }
 },
 "nbformat": 4,
 "nbformat_minor": 5
}
