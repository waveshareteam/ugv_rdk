{
 "cells": [
  {
   "cell_type": "markdown",
   "id": "c5296480-b407-4196-ab47-5ee5553492ef",
   "metadata": {},
   "source": [
    "# Controlling Subordinate Devices with JSON Commands\n",
    "This product is developed using a brain-like architecture, where the main control unit communicates with the subordinate device via serial ports (Jetson through GPIO serial ports). It's important to note that this chapter serves as a precursor to a more detailed exploration of the JSON command set for the subordinate device, and its content is similar to the previous chapter on Python chassis movement control. If you're already familiar with that chapter, you might find this overview sufficient.\n",
    "\n",
    "## Advantages of JSON data format\n",
    "\n",
    "JSON (JavaScript Object Notation) is a lightweight data interchange format that has become one of the standards for data transmission on the internet. Here are some advantages of JSON\n",
    ":- High Readability: JSON uses a text format that is easy for humans to read and write. It organizes data in key-value pairs, making it more readable and understandable during transmission and storage.。\n",
    "- Lightweight: JSON syntax is more concise and compact compared to other data formats like XML, making it more lightweight. This reduces the size of data transmissions and network bandwidth usage, improving transmission efficiency.。\n",
    "- Ease of Parsing: The simple and clear data structure of JSON makes it easy to parse and serialize. Nearly all programming languages offer libraries for parsing and generating JSON, allowing developers to easily work with JSON data.。\n",
    "- Wide Language Compatibility: JSON is supported in almost all programming languages, enabling convenient data exchange and communication across different platforms and systems.。\n",
    "- Support for Multiple Data Types: JSON supports a variety of data types, including strings, numbers, boolean values, arrays, and objects. This flexibility allows it to represent a wide range of data structures.。\n",
    "- Seamless Integration with Web Technologies: JSON originated from JavaScript, making its integration with web technologies very tight. It is highly compatible with the JavaScript language, making it convenient to use in web applications.。"
   ]
  },
  {
   "cell_type": "markdown",
   "id": "48594859-e4c0-41ad-822c-d06e3bac74d5",
   "metadata": {},
   "source": [
    "## A Simple Example of Controlling a Subordinate Device with JSON Commands\n",
    "\n",
    "In the following example, it's crucial to use the correct GPIO device name and the same baud rate as the subordinate device (default is 115200).\n",
    "\n",
    "Before executing the code block below, ensure the robot is elevated so that the drive wheels are off the ground. Activating the code will cause the robot to move; take precautions to prevent it from falling off the table."
   ]
  },
  {
   "cell_type": "code",
   "execution_count": null,
   "id": "0d264a5e-e61e-4689-808c-b36152096c0c",
   "metadata": {
    "scrolled": true
   },
   "outputs": [],
   "source": [
    "from base_ctrl import BaseController\n",
    "import time\n",
    "\n",
    "base = BaseController('/dev/ttyTHS0', 115200)\n",
    "\n",
    "# The wheel rotates at a speed of 0.2 meters per second and stops after 2 seconds.\n",
    "base.send_command({\"T\":1,\"L\":0.2,\"R\":0.2})\n",
    "time.sleep(2)\n",
    "base.send_command({\"T\":1,\"L\":0,\"R\":0})"
   ]
  },
  {
   "cell_type": "markdown",
   "id": "b66ee0da-d5cd-49aa-9f07-d993506fe9a7",
   "metadata": {},
   "source": [
    "By invoking the code block mentioned above, Jetson will initially send the command {\"T\":1,\"L\":0.2,\"R\":0.2} (the structure of commands will be discussed in more detail in later chapters). This command starts the wheels turning. After a two-second interval, the Jetson will send another command {\"T\":1,\"L\":0,\"R\":0}, causing the wheels to stop. It's important to note that even if the command to stop the wheels isn't sent, the wheels will still cease turning if no new commands are issued. This is due to a heartbeat function built into the subordinate machine. The purpose of this heartbeat function is to halt the current motion command automatically if the master control hasn't sent any new commands to the subordinate machine for an extended period. This function is designed to prevent continuous motion of the subordinate machine in case the master control encounters a problem that leads to a freeze or crash.\n",
    "\n",
    "If you want the robot to continue moving indefinitely, the master control unit needs to cyclically send motion control commands every 2 to 4 seconds."
   ]
  }
 ],
 "metadata": {
  "kernelspec": {
   "display_name": "Python 3 (ipykernel)",
   "language": "python",
   "name": "python3"
  },
  "language_info": {
   "codemirror_mode": {
    "name": "ipython",
    "version": 3
   },
   "file_extension": ".py",
   "mimetype": "text/x-python",
   "name": "python",
   "nbconvert_exporter": "python",
   "pygments_lexer": "ipython3",
   "version": "3.10.12"
  }
 },
 "nbformat": 4,
 "nbformat_minor": 5
}
