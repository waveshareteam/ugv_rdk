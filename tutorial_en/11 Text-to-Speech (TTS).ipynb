{
 "cells": [
  {
   "cell_type": "markdown",
   "id": "5de853bf-8bf4-43ca-b8a0-3401957d4c3c",
   "metadata": {},
   "source": [
    "# Text-to-Speech (TTS)\n",
    "\n",
    "Due to security considerations, it's not feasible to directly access audio devices through JupyterLab because of the environment's limitations. Therefore, the code blocks provided here are not intended for execution by users.\n",
    "\n",
    "The programs presented here originate from the product's main program file, audio_ctrl.py. You can refer to these code snippets to gain insight into how the product's main program facilitates text-to-speech functionality."
   ]
  },
  {
   "cell_type": "code",
   "execution_count": null,
   "id": "b1f4839d-0f09-422a-a2f7-9dded96c6506",
   "metadata": {},
   "outputs": [],
   "source": [
    "import pyttsx3  # Importing the pyttsx3 library for text-to-speech functionality\n",
    "import threading  # Importing the threading module for creating threads\n",
    "\n",
    "# Initializing the pyttsx3 engine\n",
    "engine = pyttsx3.init()\n",
    "\n",
    "# Creating an event object to control the synchronization of audio playback\n",
    "play_audio_event = threading.Event()\n",
    "\n",
    "# Setting the speed of voice playback\n",
    "engine.setProperty('rate', 180)\n",
    "\n",
    "# Defining a function to play voice for the given text\n",
    "def play_speech(input_text):\n",
    "    if not usb_connected:\n",
    "\t\treturn\n",
    "    engine.say(input_text)  # Inputting the text into the engine\n",
    "    engine.runAndWait()  # Waiting for the voice output to complete\n",
    "    play_audio_event.clear()  # Clearing the event to indicate voice playback is complete\n",
    "\n",
    "def play_speech_thread(input_text):\n",
    "    if not usb_connected:\n",
    "\t\treturn\n",
    "    if play_audio_event.is_set():  # If a voice is already being played, return immediately to avoid overlapping playback\n",
    "        return\n",
    "    play_audio_event.set()  # Setting the event to indicate a new voice playback task has started\n",
    "    # Creating a new thread to play voice using the play_speech function\n",
    "    speech_thread = threading.Thread(target=play_speech, args=(input_text,))\n",
    "    speech_thread.start()  # Starting the new thread to begin voice playback"
   ]
  },
  {
   "cell_type": "markdown",
   "id": "dbb4651d-be6d-4c58-96e1-ecc6bb6db51c",
   "metadata": {},
   "source": [
    "The code utilizes the pyttsx3 library to achieve text-to-speech conversion and employs the threading module to create a thread for asynchronous voice playback. The function play_speech() is designed to play the specified text's voice in the main thread, while play_speech_thread() function facilitates voice playback in a new thread to prevent blocking the main thread. Additionally, control over voice playback synchronization is managed through event objects.\r\n"
   ]
  }
 ],
 "metadata": {
  "kernelspec": {
   "display_name": "Python 3 (ipykernel)",
   "language": "python",
   "name": "python3"
  },
  "language_info": {
   "codemirror_mode": {
    "name": "ipython",
    "version": 3
   },
   "file_extension": ".py",
   "mimetype": "text/x-python",
   "name": "python",
   "nbconvert_exporter": "python",
   "pygments_lexer": "ipython3",
   "version": "3.10.12"
  }
 },
 "nbformat": 4,
 "nbformat_minor": 5
}
