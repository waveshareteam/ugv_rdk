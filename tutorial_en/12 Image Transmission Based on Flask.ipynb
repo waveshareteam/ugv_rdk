{
 "cells": [
  {
   "cell_type": "markdown",
   "id": "3e1d1808-74f1-43d9-a491-a54078a42c1b",
   "metadata": {},
   "source": [
    "# Image Transmission Based on Flask\n",
    "\n",
    "This chapter introduces how to use Flask to create a web application for displaying real-time video from the robot's camera. Due to the cross-platform nature of web applications, users can watch the camera's real-time video on devices such as smartphones, PCs, tablets, etc., through a browser, achieving wireless image transmission functionality."
   ]
  },
  {
   "cell_type": "markdown",
   "id": "4bbd39e1-629b-475a-b24b-100f5beefe1f",
   "metadata": {},
   "source": [
    "## What is Flask?\n",
    "\n",
    "Flask is a lightweight web application framework used to quickly build web applications using Python.\n",
    "\n",
    "- Lightweight: Flask is a lightweight framework with a relatively small core library, but it offers enough flexibility and extensibility for developers to choose and add the extensions and libraries they need.\n",
    "- Simple and Easy to Use: Flask is designed to be simple and easy to use. Its API is clear and well-documented, allowing developers to quickly get started and build web applications rapidly.\n",
    "- Routing System: Flask uses decorators to define URL routes, mapping requests to corresponding handler functions. This makes creating different pages and handling different requests intuitive and straightforward.\n",
    "- Template Engine: Flask integrates with the Jinja2 template engine, making it easier to build dynamic content within the application. The template engine allows you to embed dynamically generated content in HTML.\n",
    "- Integrated Development Server: Flask comes with a simple integrated development server for easy development and debugging. However, in production environments, it is recommended to use more powerful web servers such as Gunicorn or uWSGI.\n",
    "- Plugins and Extensions: Flask supports many plugins and extensions for adding additional functionality, such as database integration, authentication, form handling, etc.\n",
    "- RESTful Support: Flask provides good support for RESTful-style APIs, making it simple to build and design RESTful APIs.\n",
    "- WSGI Compatibility: Flask is based on the Web Server Gateway Interface (WSGI), allowing it to run on many web servers that comply with the WSGI standard.\n",
    "- Active Community: Flask has a large and active community, meaning you can easily find extensive documentation, tutorials, third-party extensions, and support.d support."
   ]
  },
  {
   "cell_type": "markdown",
   "id": "ee162d56-31e9-4510-bc27-3466c4beacca",
   "metadata": {
    "jp-MarkdownHeadingCollapsed": true
   },
   "source": [
    "## Preparation\n",
    "\n",
    "Since the product automatically runs the main program at startup, which occupies the camera resource, this tutorial cannot be used in such situations. You need to terminate the main program or disable its automatic startup before restarting the robot.\n",
    "\n",
    "It's worth noting that because the robot's main program uses multi-threading and is configured to run automatically at startup through crontab, the usual method sudo killall python typically doesn't work. Therefore, we'll introduce the method of disabling the automatic startup of the main program here.\n",
    "\n",
    "### Terminate the Main Program\n",
    "\n",
    "1. Click the \"+\" icon next to the tab for this page to open a new tab called \"Launcher.\"\n",
    "2. Click on \"Terminal\" under \"Other\" to open a terminal window.\n",
    "3. Type bash into the terminal window and press Enter.\n",
    "4. Now you can use the Bash Shell to control the robot.\n",
    "5. Enter the command: `sudo killall -9 python`."
   ]
  },
  {
   "cell_type": "markdown",
   "id": "08ee13b8-ceeb-4efe-bc43-1f993afc0b27",
   "metadata": {},
   "source": [
    "## Web Application Example\n",
    "\n",
    "### Note: The following code block cannot be run in Jupyter Lab\n",
    "\n",
    "Due to potential conflicts in port usage between Flask application and Jupyter Lab, the following code cannot be run in Jupyter Lab. The code is stored in the 12 folder within the `tutorial_cn` and `tutorial_en` directories. Inside the `12` folder, there is also a folder named `template` for storing web resources. Below are the steps to run the example:\n",
    "\n",
    "1. Open a terminal using the method described earlier. Make sure the terminal's default path matches the file path on the left. Navigate to the 12 folder by entering `cd 12` in the terminal.\n",
    "2. Start the Flask web application server using the following command: `python flask_camera.py`.\n",
    "3. Open a web browser on a device within the same local network (or open a new tab in the browser on the same device) and enter the Raspberry Pi's IP address followed by :5000. For example, if the Raspberry Pi's IP address is `192.168.10.104`, enter `192.168.10.104:5000` in the browser's address bar. Note that : should be an English colon.\n",
    "4. Use Ctrl + C in the terminal to end the running application.cation."
   ]
  },
  {
   "cell_type": "markdown",
   "id": "34ff533a-514d-4dea-9389-4eb0b9d36eb3",
   "metadata": {},
   "source": [
    "### Flask Example"
   ]
  },
  {
   "cell_type": "code",
   "execution_count": null,
   "id": "a8d1becf-71d1-452a-82a5-7da9165cf282",
   "metadata": {},
   "outputs": [],
   "source": [
    "from flask import Flask, render_template, Response  # Import Flask class, render_template function for rendering HTML templates, Response class for generating response objects\n",
    "import time  # Import the time module for handling time-related tasks\n",
    "import cv2  # Import the OpenCV library for image processing\n",
    "\n",
    "app = Flask(__name__)  # Create a Flask application instance\n",
    "\n",
    "def gen_frames():  # Define a generator function for generating frames captured by the camera\n",
    "    camera = cv2.VideoCapture(-1) # 创建摄像头实例\n",
    "    #设置分辨率\n",
    "    camera.set(cv2.CAP_PROP_FRAME_WIDTH, 640)\n",
    "    camera.set(cv2.CAP_PROP_FRAME_HEIGHT, 480)\n",
    "\n",
    "    while True:\n",
    "        _, frame = camera.read()  # Capture a frame from the camera\n",
    "        img = cv2.cvtColor(frame, cv2.COLOR_RGB2BGR)\n",
    "        ret, buffer = cv2.imencode('.jpg', frame)  # Encode the captured frame as JPEG format\n",
    "\n",
    "        frame = buffer.tobytes()  # Convert the JPEG image to a byte stream\n",
    "\n",
    "        # Use yield to return the image byte stream, allowing for continuous transmission of video frames to form a video stream\n",
    "        yield (b'--frame\\r\\n'\n",
    "               b'Content-Type: image/jpeg\\r\\n\\r\\n' + frame + b'\\r\\n')\n",
    "\n",
    "@app.route('/')  # Define the root route\n",
    "def index():\n",
    "    return render_template('index.html')  # Return the index.html page\n",
    "\n",
    "@app.route('/video_feed')  # Define the video stream route\n",
    "def video_feed():\n",
    "    # Return a response object with video stream content, with content type multipart/x-mixed-replace\n",
    "    return Response(gen_frames(), mimetype='multipart/x-mixed-replace; boundary=frame')\n",
    "\n",
    "if __name__ == '__main__':\n",
    "    app.run(host='0.0.0.0', port=5000, debug=True)  # Start the Flask application, listening on port 5000 on all network interfaces, with debug mode enabled\n"
   ]
  },
  {
   "cell_type": "markdown",
   "id": "b795fedd-ada7-4ad5-af5c-2a527cb1bb86",
   "metadata": {},
   "source": [
    "### Explanation of Key Parts of the Code\n",
    "\n",
    "`gen_frames()`: This is a generator function that continuously captures frames from the camera, encodes them into JPEG format, and yields the frame bytes as part of a multipart response. The generated frames are streamed in real-time to the client.\n",
    "\n",
    "`@app.route('/')`: This decorator associates the index() function with the root URL (/). When a user accesses the root URL, it renders the HTML template named '12_index.html'.\n",
    "\n",
    "`@app.route('/video_feed')`: This decorator associates the video_feed() function with the '/video_feed' URL. This route is used for real-time video streaming, where frames are sent as multipart responses.\n",
    "\n",
    "`app.run(host='0.0.0.0', port=5000, debug=True)`: This line starts the Flask development server, listening on all available network interfaces (0.0.0.0) on port 5000. The debug=True option enables the server's debug mode.g mode."
   ]
  },
  {
   "cell_type": "markdown",
   "id": "3457c521-49ff-4d47-819e-4ce13c5c2c67",
   "metadata": {},
   "source": [
    "### Web"
   ]
  },
  {
   "cell_type": "code",
   "execution_count": null,
   "id": "780a6d67-6a92-40e9-800b-1d8f7b174b0e",
   "metadata": {},
   "outputs": [],
   "source": [
    "<!doctype html>\n",
    "<html lang=\"en\">\n",
    "<head>\n",
    "    <!-- Required meta tags -->\n",
    "    <meta charset=\"utf-8\">\n",
    "    <title>Live Video Based on Flask</title>\n",
    "</head>\n",
    "<body>\n",
    "    <img src=\"{{ url_for('video_feed') }}\">\n",
    "</body>\n",
    "</html>"
   ]
  },
  {
   "cell_type": "code",
   "execution_count": null,
   "id": "505f4790-8f9a-44bb-bd8a-44b2115f29cc",
   "metadata": {},
   "outputs": [],
   "source": [
    "<!doctype html>: HTML document type declaration.\n",
    "<html lang=\"en\">: The root element of the HTML document, specifying the page language as English.\n",
    "<head>: Contains metadata of the document, such as character set and page title.\n",
    "<!-- Required meta tags -->: HTML comment, indicating these are necessary meta tags.\n",
    "<meta charset=\"utf-8\">: Specifies that the document uses the UTF-8 character set.\n",
    "<title>Live Video Based on Flask</title>: Sets the page title.\n",
    "<body>: Contains the visible content of the document.\n",
    "<!-- The image tag below is dynamically updated with the video feed from Flask -->: HTML comment, explaining that the image tag below will be dynamically updated to display the live video feed from Flask.\n",
    "<img src=\"{{ url_for('video_feed') }}\">: Image tag that uses the video_feed route defined in Flask to fetch the live video stream.路由获取实时视频流。"
   ]
  }
 ],
 "metadata": {
  "kernelspec": {
   "display_name": "Python 3 (ipykernel)",
   "language": "python",
   "name": "python3"
  },
  "language_info": {
   "codemirror_mode": {
    "name": "ipython",
    "version": 3
   },
   "file_extension": ".py",
   "mimetype": "text/x-python",
   "name": "python",
   "nbconvert_exporter": "python",
   "pygments_lexer": "ipython3",
   "version": "3.10.12"
  }
 },
 "nbformat": 4,
 "nbformat_minor": 5
}
