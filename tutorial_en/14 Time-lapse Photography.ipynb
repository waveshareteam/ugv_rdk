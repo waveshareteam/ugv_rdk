{
 "cells": [
  {
   "cell_type": "markdown",
   "id": "4be671af-9eb2-4cba-9a0f-62a8d7267b2a",
   "metadata": {},
   "source": [
    "# Time-lapse Photography\n",
    "\n",
    "This chapter builds upon the previous tutorial, capturing frames from the camera at regular intervals and saving them in the `/templates/pictures/` folder within the `ugv_jetson` directory."
   ]
  },
  {
   "cell_type": "markdown",
   "id": "3a7bebac-d408-485c-9a8e-011d0955c9c3",
   "metadata": {
    "jp-MarkdownHeadingCollapsed": true
   },
   "source": [
    "## Preparation\n",
    "\n",
    "Since the product automatically runs the main program at startup, which occupies the camera resource, this tutorial cannot be used in such situations. You need to terminate the main program or disable its automatic startup before restarting the robot.\n",
    "\n",
    "It's worth noting that because the robot's main program uses multi-threading and is configured to run automatically at startup through crontab, the usual method sudo killall python typically doesn't work. Therefore, we'll introduce the method of disabling the automatic startup of the main program here.\n",
    "\n",
    "### Terminate the Main Program\n",
    "\n",
    "1. Click the \"+\" icon next to the tab for this page to open a new tab called \"Launcher.\"\n",
    "2. Click on \"Terminal\" under \"Other\" to open a terminal window.\n",
    "3. Type bash into the terminal window and press Enter.\n",
    "4. Now you can use the Bash Shell to control the robot.\n",
    "5. Enter the command: `sudo killall -9 python`."
   ]
  },
  {
   "cell_type": "markdown",
   "id": "7ca66498-ee88-4e63-bdb6-4ebc9b801549",
   "metadata": {},
   "source": [
    "## Example\n",
    "\n",
    "The following code block can be run directly:\n",
    "\n",
    "1. Select the code block below.\n",
    "2. Press Shift + Enter to run the code block.\n",
    "3. Watch the real-time video window.\n",
    "4. Press `STOP` to close the real-time video and release the camera resources.\n",
    "\n",
    "### If you cannot see the real-time camera feed when running:\n",
    "\n",
    "- Click on Kernel -> Shut down all kernels above.\n",
    "- Close the current section tab and open it again.\n",
    "- Click `STOP` to release the camera resources, then run the code block again.\n",
    "- Reboot the device.\n",
    "\n",
    "### Differences from the Previous Chapter\n",
    "\n",
    "You can adjust the value of `time_intervel` to change the interval between photos, measured in seconds.\n",
    "The photos you capture will be stored in the `/ugv_jetson/templates/pictures/` folder."
   ]
  },
  {
   "cell_type": "code",
   "execution_count": null,
   "id": "a2940539-421c-4dc9-97a1-106d775dbf94",
   "metadata": {},
   "outputs": [],
   "source": [
    "import cv2  # Import the OpenCV library for image processing\n",
    "import numpy as np\n",
    "from IPython.display import display, Image  # Import IPython display functionality\n",
    "import ipywidgets as widgets  # Import the ipywidgets library for creating cloud interactive widgets\n",
    "import threading  # Import the threading library for multithreading\n",
    "\n",
    "import os, time  # Import the os and time libraries for file operations and time-related functionalities\n",
    "\n",
    "# Change the interval time for taking photos here (in seconds)\n",
    "time_intervel = 3  # Take a photo every 3 seconds\n",
    "\n",
    "# Set the path for saving the images\n",
    "# You can change the save path here\n",
    "photo_path = '/home/ws/ugv_pt_rpi/static/'\n",
    "\n",
    "# Create a toggle button as a stop button\n",
    "# ================\n",
    "stopButton = widgets.ToggleButton(\n",
    "    value=False,  # The initial state of the button is unselected\n",
    "    description='Stop',  # Text displayed on the button\n",
    "    disabled=False,  # The button is initially enabled\n",
    "    button_style='danger',  # 'success', 'info', 'warning', 'danger' or ''\n",
    "    tooltip='Description',  # Tooltip displayed when hovering over the button\n",
    "    icon='square'  # Button icon (FontAwesome name without the `fa-` prefix)\n",
    ")\n",
    "\n",
    "\n",
    "# Define a function for displaying the video stream and taking photos at regular intervals\n",
    "# ================\n",
    "def view(button):\n",
    "    last_picture_time = time.time()  # Record the time of the last photo taken\n",
    "    num_count = 0  # Initialize the photo counter\n",
    "\n",
    "    camera = cv2.VideoCapture(-1) \n",
    "    camera.set(cv2.CAP_PROP_FRAME_WIDTH, 640)\n",
    "    camera.set(cv2.CAP_PROP_FRAME_HEIGHT, 480)\n",
    "    \n",
    "    display_handle=display(None, display_id=True)  # Create a display handle for updating the displayed content\n",
    "    \n",
    "    i = 0\n",
    "    while True:\n",
    "        # frame = picam2.capture_array()\n",
    "        _, frame = camera.read()\n",
    "\n",
    "        # Take a photo every few seconds\n",
    "        if time.time() - last_picture_time >= time_intervel:\n",
    "            num_count = num_count + 1  # Update the photo counter\n",
    "            photo_filename = f'{photo_path}photo_{num_count}.jpg'  # Define the file name for the photo\n",
    "            cv2.imwrite(photo_filename, frame)  # Save the photo to the specified path\n",
    "            last_picture_time = time.time()  # Update the time of the last photo taken\n",
    "            print(f'{num_count} photos saved. new photo: {photo_filename}')  # Print information about the saved photo\n",
    "            \n",
    "        _, frame = cv2.imencode('.jpeg', frame)  # Encode the frame as JPEG format\n",
    "        display_handle.update(Image(data=frame.tobytes()))  # Update the displayed image\n",
    "        if stopButton.value==True:  # Check if the stop button is pressed\n",
    "            # picam2.close()\n",
    "            cv2.release() # If yes, close the camera\n",
    "            display_handle.update(None)\n",
    "\n",
    "            \n",
    "# Display the stop button and start the video stream display thread\n",
    "# ================\n",
    "display(stopButton)\n",
    "thread = threading.Thread(target=view, args=(stopButton,))\n",
    "thread.start()"
   ]
  }
 ],
 "metadata": {
  "kernelspec": {
   "display_name": "Python 3 (ipykernel)",
   "language": "python",
   "name": "python3"
  },
  "language_info": {
   "codemirror_mode": {
    "name": "ipython",
    "version": 3
   },
   "file_extension": ".py",
   "mimetype": "text/x-python",
   "name": "python",
   "nbconvert_exporter": "python",
   "pygments_lexer": "ipython3",
   "version": "3.10.12"
  }
 },
 "nbformat": 4,
 "nbformat_minor": 5
}
