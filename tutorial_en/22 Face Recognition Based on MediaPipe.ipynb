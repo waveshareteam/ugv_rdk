{
 "cells": [
  {
   "cell_type": "markdown",
   "id": "c73b76a5-7e1c-44bb-8739-3259ce525108",
   "metadata": {},
   "source": [
    "# Face Recognition Based on MediaPipe\n",
    "\n",
    "This section introduces how to implement face recognition using MediaPipe + OpenCV."
   ]
  },
  {
   "cell_type": "markdown",
   "id": "d1e91bda-7ddd-4229-b502-effc12fb0f63",
   "metadata": {},
   "source": [
    "## What is MediaPipe?\r\n",
    "\n",
    "MediaPipe is an open-source framework developed by Google for building machine learning-based multimedia processing applications. It provides a set of tools and libraries for processing video, audio, and image data, and applies machine learning models to achieve various functionalities such as pose estimation, gesture recognition, and face detection. MediaPipe is designed to offer efficient, flexible, and easy-to-use solutions, enabling developers to quickly build a variety of multimedia processing applications."
   ]
  },
  {
   "cell_type": "markdown",
   "id": "0a046f51-774e-4e2c-ac10-ef25fec832ae",
   "metadata": {
    "jp-MarkdownHeadingCollapsed": true
   },
   "source": [
    "## Preparation\n",
    "\n",
    "Since the product automatically runs the main program at startup, which occupies the camera resource, this tutorial cannot be used in such situations. You need to terminate the main program or disable its automatic startup before restarting the robot.\n",
    "\n",
    "It's worth noting that because the robot's main program uses multi-threading and is configured to run automatically at startup through crontab, the usual method sudo killall python typically doesn't work. Therefore, we'll introduce the method of disabling the automatic startup of the main program here.\n",
    "\n",
    "### Terminate the Main Program\n",
    "\n",
    "1. Click the \"+\" icon next to the tab for this page to open a new tab called \"Launcher.\"\n",
    "2. Click on \"Terminal\" under \"Other\" to open a terminal window.\n",
    "3. Type bash into the terminal window and press Enter.\n",
    "4. Now you can use the Bash Shell to control the robot.\n",
    "5. Enter the command: `sudo killall -9 python`."
   ]
  },
  {
   "cell_type": "markdown",
   "id": "e031a96e-a5f1-48d8-abf7-e72cb73f6818",
   "metadata": {},
   "source": [
    "## Example\n",
    "\n",
    "The following code block can be run directly:\n",
    "\n",
    "1. Select the code block below.\n",
    "2. Press Shift + Enter to run the code block.\n",
    "3. Watch the real-time video window.\n",
    "4. Press `STOP` to close the real-time video and release the camera resources.\n",
    "\n",
    "### If you cannot see the real-time camera feed when running:\n",
    "\n",
    "- Click on Kernel -> Shut down all kernels above.\n",
    "- Close the current section tab and open it again.\n",
    "- Click `STOP` to release the camera resources, then run the code block again.\n",
    "- Reboot the device.\n",
    "\n",
    "### Features of this Section\n",
    "\n",
    "When the code block runs correctly, MediaPipe will automatically detect faces in the video feed, outlining the position of the face and marking the facial features."
   ]
  },
  {
   "cell_type": "code",
   "execution_count": null,
   "id": "9c8bd07f-f688-415d-95cf-37dd7a4af582",
   "metadata": {},
   "outputs": [],
   "source": [
    "import cv2  # Import the OpenCV library for image processing\n",
    "import imutils, math  # Libraries for auxiliary image processing and mathematical operations\n",
    "from IPython.display import display, Image  # Library for displaying images in Jupyter Notebook\n",
    "import ipywidgets as widgets  # Library for creating interactive interface widgets such as buttons\n",
    "import threading  # Library for creating new threads for asynchronous task execution\n",
    "import mediapipe as mp  # Import the MediaPipe library for face detection\n",
    "\n",
    "# Create a \"STOP\" button that users can click to stop the video stream\n",
    "# ================\n",
    "stopButton = widgets.ToggleButton(\n",
    "    value=False,\n",
    "    description='Stop',\n",
    "    disabled=False,\n",
    "    button_style='danger', # 'success', 'info', 'warning', 'danger' or ''\n",
    "    tooltip='Description',\n",
    "    icon='square' # (FontAwesome names without the `fa-` prefix)\n",
    ")\n",
    "\n",
    "# Initialize the face detection model of MediaPipe\n",
    "mpDraw = mp.solutions.drawing_utils\n",
    "\n",
    "\n",
    "# MediaPipe Hand GS\n",
    "mp_face_detection = mp.solutions.face_detection\n",
    "face_detection = mp_face_detection.FaceDetection(model_selection=0, min_detection_confidence=0.5)\n",
    "\n",
    "# Define a display function to process video frames and perform face detection\n",
    "def view(button):\n",
    "    camera = cv2.VideoCapture(-1) \n",
    "    camera.set(cv2.CAP_PROP_FRAME_WIDTH, 640)\n",
    "    camera.set(cv2.CAP_PROP_FRAME_HEIGHT, 480)\n",
    "    \n",
    "    display_handle=display(None, display_id=True)\n",
    "    \n",
    "    while True:\n",
    "        # frame = picam2.capture_array() # Capture a frame from the camera\n",
    "        _, frame = camera.read()\n",
    "        # frame = cv2.flip(frame, 1) # if your camera reverses your image\n",
    "\n",
    "        img = cv2.cvtColor(frame, cv2.COLOR_RGB2BGR)\n",
    "        results = face_detection.process(img)\n",
    "\n",
    "        # If a face is detected\n",
    "        if results.detections:\n",
    "            for detection in results.detections: # Iterate through each detected face\n",
    "                frame = cv2.cvtColor(frame, cv2.COLOR_RGB2BGR)\n",
    "                mpDraw.draw_detection(frame, detection) # Use MediaPipe's drawing tools to draw face landmarks\n",
    "                frame = cv2.cvtColor(frame, cv2.COLOR_BGR2RGB)\n",
    "\n",
    "        _, frame = cv2.imencode('.jpeg', frame)  # Encode the processed frame to JPEG format\n",
    "        display_handle.update(Image(data=frame.tobytes()))  # Update the displayed image\n",
    "        if stopButton.value==True:  # Check if the \"STOP\" button is pressed\n",
    "            # picam2.close()  # If yes, close the camera\n",
    "            cv2.release() # If yes, close the camera\n",
    "            display_handle.update(None)  # Clear the displayed content\n",
    "\n",
    "# Display the \"STOP\" button and start a thread to run the display function\n",
    "# ================\n",
    "display(stopButton)\n",
    "thread = threading.Thread(target=view, args=(stopButton,))\n",
    "thread.start()"
   ]
  }
 ],
 "metadata": {
  "kernelspec": {
   "display_name": "Python 3 (ipykernel)",
   "language": "python",
   "name": "python3"
  },
  "language_info": {
   "codemirror_mode": {
    "name": "ipython",
    "version": 3
   },
   "file_extension": ".py",
   "mimetype": "text/x-python",
   "name": "python",
   "nbconvert_exporter": "python",
   "pygments_lexer": "ipython3",
   "version": "3.10.12"
  }
 },
 "nbformat": 4,
 "nbformat_minor": 5
}
