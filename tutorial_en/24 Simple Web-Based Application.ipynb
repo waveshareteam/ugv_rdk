{
 "cells": [
  {
   "cell_type": "markdown",
   "id": "289cec09-eeba-44ec-90f2-c7a09f8e919f",
   "metadata": {},
   "source": [
    "# Simple Web-Based Application\n",
    "\n",
    "In the previous chapters, we introduced how to use Flask to achieve low-latency image transmission, which is used to transfer the camera feed to the web application interface. Here, we will discuss how to pass the information entered on the web application interface to the backend of the web application. This functionality is used to control the robot using the web application."
   ]
  },
  {
   "cell_type": "code",
   "execution_count": null,
   "id": "a9ba5336-fc77-49d7-99ba-7f31251fd647",
   "metadata": {},
   "outputs": [],
   "source": [
    "from flask import Flask, request\n",
    "\n",
    "app = Flask(__name__)\n",
    "\n",
    "@app.route('/', methods=['GET', 'POST'])\n",
    "def index():\n",
    "    if request.method == 'POST':\n",
    "        # Get form data\n",
    "        form_data = request.form\n",
    "        # Print form data\n",
    "        print(form_data)\n",
    "        # Return a simple response\n",
    "        return 'Received data: {}'.format(form_data)\n",
    "    else:\n",
    "        # If it's a GET request, return a simple form page\n",
    "        return '''\n",
    "        <form method=\"post\">\n",
    "            <label for=\"input_data\">Input data:</label><br>\n",
    "            <input type=\"text\" id=\"input_data\" name=\"input_data\"><br>\n",
    "            <input type=\"submit\" value=\"Submit\">\n",
    "        </form>\n",
    "        '''\n",
    "\n",
    "if __name__ == '__main__':\n",
    "    app.run(host='0.0.0.0')\n"
   ]
  },
  {
   "cell_type": "markdown",
   "id": "310758d8-9292-4976-ae09-77025a0463ee",
   "metadata": {},
   "source": [
    "You can select the code block above and press Ctrl + Enter to run it. If you encounter a port conflict, it means you've previously run this code block. You'll need to click \"Kernel\" in the JupyterLab menu bar and then select \"Shut Down All Kernels\" to release the resources, including network port resources, occupied by the previously run code block. After that, you can rerun the code block to run this Flask application.\r\n",
    "\r\n",
    "Once you run the code block, you'll see messages like \"Running on http://127.0.0.1:5000\" and \"Running on http://[IP]:5000\". Usually, the \"[IP]\" here refers to the IP address assigned to youJetsonPi by your router. You can open a web browser on any device within the same local network and visit \"[IP]:5000\". Note that the ':' symbol here must be the English colon, representing the port number 5000 of the IP address you're accessing.\r\n",
    "\r\n",
    "Upon visiting this page, you'll see an input box and a \"Submit\" button. You can enter some content into the input box and then click the \"Submit\" button. After that, you can see the content you entered on the web page, and the backend will display the content it received below the code block in JupyterLab."
   ]
  },
  {
   "cell_type": "code",
   "execution_count": null,
   "id": "546a705f-4f43-4331-8b8e-117d0f6ef4d7",
   "metadata": {},
   "outputs": [],
   "source": []
  }
 ],
 "metadata": {
  "kernelspec": {
   "display_name": "Python 3 (ipykernel)",
   "language": "python",
   "name": "python3"
  },
  "language_info": {
   "codemirror_mode": {
    "name": "ipython",
    "version": 3
   },
   "file_extension": ".py",
   "mimetype": "text/x-python",
   "name": "python",
   "nbconvert_exporter": "python",
   "pygments_lexer": "ipython3",
   "version": "3.10.12"
  }
 },
 "nbformat": 4,
 "nbformat_minor": 5
}
