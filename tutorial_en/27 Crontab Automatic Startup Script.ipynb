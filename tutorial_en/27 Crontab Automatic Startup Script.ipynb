{
 "cells": [
  {
   "cell_type": "markdown",
   "id": "8ae7f418-6d93-4ddc-b0c8-f0dd4d038ea6",
   "metadata": {},
   "source": [
    "# Crontab Automatic Startup Script\n",
    "\n",
    "In previous tutorials, we briefly introduced how to disable the automatic startup of the product's main program. The method used is to comment out the command to run the product's main program in the Crontab file. In this chapter, you will learn more about Crontab and why we use Crontab instead of Services for automatic startup.\n",
    "\n",
    "Crontab is a tool in the Linux system used for scheduling periodic tasks. Through Crontab, users can set specific times, dates, or intervals to execute specific commands or scripts. Here are some important concepts and usages of Crontab:\n",
    "\n",
    "## Crontab File\n",
    "\n",
    "The Crontab file is where scheduling information for periodic tasks is stored. Each user has their own Crontab file for storing their own scheduling information. Crontab files are usually stored in the /var/spool/cron directory, named after the user's username.\n",
    "\n",
    "## Crontab Format\n",
    "\n",
    "Each line in the Crontab file represents a scheduled task. Each line consists of five fields representing minutes, hours, date, month, and day of the week. You can use the # symbol to comment out a line to disable the corresponding task scheduling.\n",
    "\n",
    "## Usage\n",
    "\n",
    "To edit the Crontab file, you can use the crontab -e command. This command opens a text editor, allowing the user to edit their Crontab file. After editing, save and exit the editor, and the Crontab file will be updated.\n",
    "\n",
    "Common options:\n",
    "\n",
    "- -e: Edit the user's Crontab file.\n",
    "- -l: List the contents of the user's Crontab file.\n",
    "- -r: Remove the user's Crontab file.\n",
    "- -u: Specify the user to operate on.\n",
    "\n",
    "## Comparison with Services\n",
    "\n",
    "In contrast, using services to achieve automatic startup at boot time is typically done by executing a series of predefined services or scripts when the system starts up. These services can be found in the /etc/init.d/ directory and started, stopped, or restarted using system service management tools like systemctl.\n",
    "\n",
    "## Advantages of Crontab:\n",
    "\n",
    "Flexibility: Tasks can be scheduled very flexibly, including specifying minutes, hours, dates, months, and days of the week.\n",
    "Simplicity: Crontab configuration is relatively simple, making it convenient for scheduling simple periodic tasks.\n",
    "User Independence: Each user has their own Crontab file, allowing them to manage their own tasks without affecting other users.\n",
    "\n",
    "## Advantages of Services:\n",
    "\n",
    "- Reliability: Services implemented through services are often more stable and reliable as they are system-level services that are automatically loaded and run when the system starts.\n",
    "- Management: System administrators can more easily manage services, including starting, stopping, restarting, and checking status.\n",
    "- Control Permissions: For tasks requiring privileged execution, using services provides better control over permissions to ensure security.\n",
    "\n",
    "## Special Advantages of Crontab in this Product\n",
    "\n",
    "Lower resource usage: Through our testing and comparison, the CPU resource usage of the same Python script using Crontab is 1/4 of that using services. For applications like complex robot main programs, using Crontab for automatic startup is a better choice. Services are more suitable for important services or applications that need to be executed at system startup. to be executed at system startup."
   ]
  }
 ],
 "metadata": {
  "kernelspec": {
   "display_name": "Python 3 (ipykernel)",
   "language": "python",
   "name": "python3"
  },
  "language_info": {
   "codemirror_mode": {
    "name": "ipython",
    "version": 3
   },
   "file_extension": ".py",
   "mimetype": "text/x-python",
   "name": "python",
   "nbconvert_exporter": "python",
   "pygments_lexer": "ipython3",
   "version": "3.10.12"
  }
 },
 "nbformat": 4,
 "nbformat_minor": 5
}
