{
 "cells": [
  {
   "cell_type": "markdown",
   "id": "080d80f3-c073-40ee-961a-921a4a072890",
   "metadata": {},
   "source": [
    "# Custom Command Line Functionality\n",
    "\n",
    "To facilitate secondary development of the product, we have added a command-line input window in the WEB application. You can input commands in this window, and after clicking the SEND button, the command will be sent to the upper computer application. The upper computer application will execute corresponding functionalities or parameter adjustments based on the command you send.\n",
    "\n",
    "We already have some ready-made commands that you can refer to in the following sections of the WEB Command Line Application to learn about those commands. In this section, we will introduce how to implement custom command-line functionality while explaining how this feature is implemented, making it easier for you to understand the subsequent sections.\n",
    "\n",
    "## Adding Functionality\n",
    "\n",
    "The example routines for command-line functionality are written in the main program app.py, and they are handled by the cmdline_ctrl() function. Below is our default command-line instruction processing function. This function is incomplete because the content afterward deals with other functionalities, which are omitted here without affecting the understanding of the function itself.\n",
    "\n",
    "Note: The code block below cannot be executed in JupyterLab and is only used for illustration purposes."
   ]
  },
  {
   "cell_type": "code",
   "execution_count": null,
   "id": "c1e0cf48-877d-40b3-8285-e7886b3ef7f1",
   "metadata": {},
   "outputs": [],
   "source": [
    "def cmd_process(self, args_str):\n",
    "    if not args_string:\n",
    "        return\n",
    "    # Split the input parameter string into a list: args\n",
    "    args = args_str.split()\n",
    "    if args[0] == 'base':\n",
    "        self.info_update(\"CMD:\" + args_str, (0,255,255), 0.36)\n",
    "        if args[1] == '-c' or args[1] == '--cmd':\n",
    "            base.base_json_ctrl(json.loads(args[2]))\n",
    "        elif args[1] == '-r' or args[1] == '--recv':\n",
    "            if args[2] == 'on':\n",
    "                show_recv_flag = True\n",
    "            elif args[2] == 'off':\n",
    "                show_recv_flag = False\n",
    "\n",
    "    elif args[0] == 'info':\n",
    "        info_update_time = time.time()\n",
    "        show_info_flag = True\n",
    "\n",
    "    elif args[0] == 'audio':\n",
    "        self.info_update(\"CMD:\" + args_str, (0,255,255), 0.36)\n",
    "        if args[1] == '-s' or args[1] == '--say':\n",
    "            audio_ctrl.play_speech_thread(' '.join(args[2:]))\n",
    "        elif args[1] == '-v' or args[1] == '--volume':\n",
    "            audio_ctrl.set_audio_volume(args[2])\n",
    "        elif args[1] == '-p' or args[1] == '--play_file':\n",
    "            audio_ctrl.play_file(args[2])"
   ]
  },
  {
   "cell_type": "markdown",
   "id": "2a3bba14-9797-4873-98d5-f877c5ad32a2",
   "metadata": {},
   "source": [
    "Let's take `audio -s hey hi hello` as an example. This command is used for text-to-speech functionality, where audio represents an audio-related function, `-s` or `--say` indicates text-to-speech, and the following parameters are the content you want it to say. After sending this command, the robot will say \"hey hi hello\".\n",
    "\n",
    "\r\n",
    "Firstly, when this function receives a command-line instruction, since the command-line instruction is a string, we need to use `args = args_str.split()` to convert this string into a list. Then, we can check each value in the list to execute the corresponding functionality.If you need to extend other custom functionalities, you just need to add anothe `elif args[0] == 'newCmd'."
   ]
  }
 ],
 "metadata": {
  "kernelspec": {
   "display_name": "Python 3 (ipykernel)",
   "language": "python",
   "name": "python3"
  },
  "language_info": {
   "codemirror_mode": {
    "name": "ipython",
    "version": 3
   },
   "file_extension": ".py",
   "mimetype": "text/x-python",
   "name": "python",
   "nbconvert_exporter": "python",
   "pygments_lexer": "ipython3",
   "version": "3.10.12"
  }
 },
 "nbformat": 4,
 "nbformat_minor": 5
}
